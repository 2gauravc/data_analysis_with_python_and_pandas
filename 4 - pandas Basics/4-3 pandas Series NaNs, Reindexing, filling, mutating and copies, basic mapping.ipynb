{
 "metadata": {
  "name": "",
  "signature": "sha256:0592c2b089b387a8d23ef6bd5f9e47be40e8ba0c43595d7eeb536c1483528f75"
 },
 "nbformat": 3,
 "nbformat_minor": 0,
 "worksheets": [
  {
   "cells": [
    {
     "cell_type": "heading",
     "level": 1,
     "metadata": {},
     "source": [
      "pandas Series Reindexing, filling, mutating, copying, and maps"
     ]
    },
    {
     "cell_type": "code",
     "collapsed": false,
     "input": [
      "%matplotlib inline\n",
      "import sys\n",
      "import pandas as pd\n",
      "import numpy as np\n",
      "import matplotlib.pyplot as plt\n",
      "print sys.version\n",
      "print \"Pandas:\", pd.version.version"
     ],
     "language": "python",
     "metadata": {},
     "outputs": [
      {
       "output_type": "stream",
       "stream": "stdout",
       "text": [
        "2.7.6 (default, Sep  9 2014, 15:04:36) \n",
        "[GCC 4.2.1 Compatible Apple LLVM 6.0 (clang-600.0.39)]\n",
        "Pandas: 0.15.0\n"
       ]
      }
     ],
     "prompt_number": 2
    },
    {
     "cell_type": "markdown",
     "metadata": {},
     "source": [
      "Now NaN values are treated differently in numpy than in pandas. In numpy, as we saw earlier if you\u2019ve got an array with a NaN value, things like summary statistics are calculated as NaN."
     ]
    },
    {
     "cell_type": "code",
     "collapsed": false,
     "input": [
      "np_array = np.array([1,2,3,np.nan])\n",
      "np_array"
     ],
     "language": "python",
     "metadata": {},
     "outputs": [
      {
       "metadata": {},
       "output_type": "pyout",
       "prompt_number": 3,
       "text": [
        "array([  1.,   2.,   3.,  nan])"
       ]
      }
     ],
     "prompt_number": 3
    },
    {
     "cell_type": "code",
     "collapsed": false,
     "input": [
      "np_array.mean()"
     ],
     "language": "python",
     "metadata": {},
     "outputs": [
      {
       "metadata": {},
       "output_type": "pyout",
       "prompt_number": 4,
       "text": [
        "nan"
       ]
      }
     ],
     "prompt_number": 4
    },
    {
     "cell_type": "code",
     "collapsed": false,
     "input": [
      "pd_series = pd.Series([1,2,3,np.nan])\n",
      "pd_series"
     ],
     "language": "python",
     "metadata": {},
     "outputs": [
      {
       "metadata": {},
       "output_type": "pyout",
       "prompt_number": 5,
       "text": [
        "0     1\n",
        "1     2\n",
        "2     3\n",
        "3   NaN\n",
        "dtype: float64"
       ]
      }
     ],
     "prompt_number": 5
    },
    {
     "cell_type": "markdown",
     "metadata": {},
     "source": [
      "Pandas Series treat them differently, it just ignores that empty value. We\u2019ll cover filling in those empty values at a later time."
     ]
    },
    {
     "cell_type": "code",
     "collapsed": false,
     "input": [
      "pd_series.mean()"
     ],
     "language": "python",
     "metadata": {},
     "outputs": [
      {
       "metadata": {},
       "output_type": "pyout",
       "prompt_number": 6,
       "text": [
        "2.0"
       ]
      }
     ],
     "prompt_number": 6
    },
    {
     "cell_type": "code",
     "collapsed": false,
     "input": [
      "np.random.seed(567)"
     ],
     "language": "python",
     "metadata": {},
     "outputs": [],
     "prompt_number": 7
    },
    {
     "cell_type": "markdown",
     "metadata": {},
     "source": [
      "Sometimes you're going to have to make some new indexes. For example we've got two Series."
     ]
    },
    {
     "cell_type": "code",
     "collapsed": false,
     "input": [
      "s1 = pd.Series(np.random.randn(5))\n",
      "s1"
     ],
     "language": "python",
     "metadata": {},
     "outputs": [
      {
       "metadata": {},
       "output_type": "pyout",
       "prompt_number": 8,
       "text": [
        "0    0.213266\n",
        "1   -0.091899\n",
        "2   -0.089349\n",
        "3    0.265756\n",
        "4    0.376065\n",
        "dtype: float64"
       ]
      }
     ],
     "prompt_number": 8
    },
    {
     "cell_type": "code",
     "collapsed": false,
     "input": [
      "s2 = pd.Series(np.random.randn(5))\n",
      "s2"
     ],
     "language": "python",
     "metadata": {},
     "outputs": [
      {
       "metadata": {},
       "output_type": "pyout",
       "prompt_number": 9,
       "text": [
        "0    0.688025\n",
        "1    0.510002\n",
        "2    1.914120\n",
        "3    0.724774\n",
        "4    0.124588\n",
        "dtype: float64"
       ]
      }
     ],
     "prompt_number": 9
    },
    {
     "cell_type": "markdown",
     "metadata": {},
     "source": [
      "Now at times you\u2019re going to want to reindex a Series. What does this mean? Basically that you want to destroy the index you have currently and reset it. Let\u2019s walk through a practical example."
     ]
    },
    {
     "cell_type": "code",
     "collapsed": false,
     "input": [
      "combo = pd.concat([s1, s2])\n",
      "combo"
     ],
     "language": "python",
     "metadata": {},
     "outputs": [
      {
       "metadata": {},
       "output_type": "pyout",
       "prompt_number": 10,
       "text": [
        "0    0.213266\n",
        "1   -0.091899\n",
        "2   -0.089349\n",
        "3    0.265756\n",
        "4    0.376065\n",
        "0    0.688025\n",
        "1    0.510002\n",
        "2    1.914120\n",
        "3    0.724774\n",
        "4    0.124588\n",
        "dtype: float64"
       ]
      }
     ],
     "prompt_number": 10
    },
    {
     "cell_type": "markdown",
     "metadata": {},
     "source": [
      "When we concatenate them, we can see we\u2019ve got repeated index values. We can query just like we would normally by these index values, but in all likelihood we\u2019ll want to replace them with a new one."
     ]
    },
    {
     "cell_type": "code",
     "collapsed": false,
     "input": [
      "combo[0]"
     ],
     "language": "python",
     "metadata": {},
     "outputs": [
      {
       "metadata": {},
       "output_type": "pyout",
       "prompt_number": 11,
       "text": [
        "0    0.213266\n",
        "0    0.688025\n",
        "dtype: float64"
       ]
      }
     ],
     "prompt_number": 11
    },
    {
     "cell_type": "code",
     "collapsed": false,
     "input": [
      "combo.index = range(combo.count())\n",
      "combo"
     ],
     "language": "python",
     "metadata": {},
     "outputs": [
      {
       "metadata": {},
       "output_type": "pyout",
       "prompt_number": 12,
       "text": [
        "0    0.213266\n",
        "1   -0.091899\n",
        "2   -0.089349\n",
        "3    0.265756\n",
        "4    0.376065\n",
        "5    0.688025\n",
        "6    0.510002\n",
        "7    1.914120\n",
        "8    0.724774\n",
        "9    0.124588\n",
        "dtype: float64"
       ]
      }
     ],
     "prompt_number": 12
    },
    {
     "cell_type": "markdown",
     "metadata": {},
     "source": [
      "However this is rather limited in what you can achieve. It just overwrites the index we have now. What happens if we\u2019re looking to fill in missing data with nan values? We have to use reindex which will return a new Series."
     ]
    },
    {
     "cell_type": "code",
     "collapsed": false,
     "input": [
      "new_combo = combo.reindex([0,2,15,21])\n",
      "new_combo"
     ],
     "language": "python",
     "metadata": {},
     "outputs": [
      {
       "metadata": {},
       "output_type": "pyout",
       "prompt_number": 13,
       "text": [
        "0     0.213266\n",
        "2    -0.089349\n",
        "15         NaN\n",
        "21         NaN\n",
        "dtype: float64"
       ]
      }
     ],
     "prompt_number": 13
    },
    {
     "cell_type": "markdown",
     "metadata": {},
     "source": [
      "\n",
      "We can specify how to handle nan values with fill_value. or we can specify a method by which they should be filled. This can performed during the reindexing using the method parameter (like we did with fill_value), or we can do it after the fact.\n"
     ]
    },
    {
     "cell_type": "code",
     "collapsed": false,
     "input": [
      "combo.reindex([0,2,15,21], fill_value=0)"
     ],
     "language": "python",
     "metadata": {},
     "outputs": [
      {
       "metadata": {},
       "output_type": "pyout",
       "prompt_number": 14,
       "text": [
        "0     0.213266\n",
        "2    -0.089349\n",
        "15    0.000000\n",
        "21    0.000000\n",
        "dtype: float64"
       ]
      }
     ],
     "prompt_number": 14
    },
    {
     "cell_type": "code",
     "collapsed": false,
     "input": [
      "new_combo"
     ],
     "language": "python",
     "metadata": {},
     "outputs": [
      {
       "metadata": {},
       "output_type": "pyout",
       "prompt_number": 15,
       "text": [
        "0     0.213266\n",
        "2    -0.089349\n",
        "15         NaN\n",
        "21         NaN\n",
        "dtype: float64"
       ]
      }
     ],
     "prompt_number": 15
    },
    {
     "cell_type": "markdown",
     "metadata": {},
     "source": [
      "Here\u2019s an example of fill which is forward fill"
     ]
    },
    {
     "cell_type": "code",
     "collapsed": false,
     "input": [
      "new_combo.ffill()"
     ],
     "language": "python",
     "metadata": {},
     "outputs": [
      {
       "metadata": {},
       "output_type": "pyout",
       "prompt_number": 16,
       "text": [
        "0     0.213266\n",
        "2    -0.089349\n",
        "15   -0.089349\n",
        "21   -0.089349\n",
        "dtype: float64"
       ]
      }
     ],
     "prompt_number": 16
    },
    {
     "cell_type": "markdown",
     "metadata": {},
     "source": [
      "and bfill or backward fill"
     ]
    },
    {
     "cell_type": "code",
     "collapsed": false,
     "input": [
      "new_combo.bfill()"
     ],
     "language": "python",
     "metadata": {},
     "outputs": [
      {
       "metadata": {},
       "output_type": "pyout",
       "prompt_number": 17,
       "text": [
        "0     0.213266\n",
        "2    -0.089349\n",
        "15         NaN\n",
        "21         NaN\n",
        "dtype: float64"
       ]
      }
     ],
     "prompt_number": 17
    },
    {
     "cell_type": "code",
     "collapsed": false,
     "input": [
      "new_combo[21] = 5"
     ],
     "language": "python",
     "metadata": {},
     "outputs": [],
     "prompt_number": 18
    },
    {
     "cell_type": "code",
     "collapsed": false,
     "input": [
      "new_combo"
     ],
     "language": "python",
     "metadata": {},
     "outputs": [
      {
       "metadata": {},
       "output_type": "pyout",
       "prompt_number": 19,
       "text": [
        "0     0.213266\n",
        "2    -0.089349\n",
        "15         NaN\n",
        "21    5.000000\n",
        "dtype: float64"
       ]
      }
     ],
     "prompt_number": 19
    },
    {
     "cell_type": "code",
     "collapsed": false,
     "input": [
      "new_combo.bfill()"
     ],
     "language": "python",
     "metadata": {},
     "outputs": [
      {
       "metadata": {},
       "output_type": "pyout",
       "prompt_number": 20,
       "text": [
        "0     0.213266\n",
        "2    -0.089349\n",
        "15    5.000000\n",
        "21    5.000000\n",
        "dtype: float64"
       ]
      }
     ],
     "prompt_number": 20
    },
    {
     "cell_type": "code",
     "collapsed": false,
     "input": [
      "new_combo"
     ],
     "language": "python",
     "metadata": {},
     "outputs": [
      {
       "metadata": {},
       "output_type": "pyout",
       "prompt_number": 21,
       "text": [
        "0     0.213266\n",
        "2    -0.089349\n",
        "15         NaN\n",
        "21    5.000000\n",
        "dtype: float64"
       ]
      }
     ],
     "prompt_number": 21
    },
    {
     "cell_type": "markdown",
     "metadata": {},
     "source": [
      "Fillna just fills the blanks with whatever value you specify."
     ]
    },
    {
     "cell_type": "code",
     "collapsed": false,
     "input": [
      "new_combo.fillna(12)"
     ],
     "language": "python",
     "metadata": {},
     "outputs": [
      {
       "metadata": {},
       "output_type": "pyout",
       "prompt_number": 22,
       "text": [
        "0      0.213266\n",
        "2     -0.089349\n",
        "15    12.000000\n",
        "21     5.000000\n",
        "dtype: float64"
       ]
      }
     ],
     "prompt_number": 22
    },
    {
     "cell_type": "markdown",
     "metadata": {},
     "source": [
      "\n",
      "Now lastly I want to cover how we can merge different Series\u2019 on certain values and perform simple arithmetic operations.\n",
      "\n",
      "When s1 and s2 have the same index it\u2019s easy to say add them together and get what we expect.\n"
     ]
    },
    {
     "cell_type": "code",
     "collapsed": false,
     "input": [
      "s1"
     ],
     "language": "python",
     "metadata": {},
     "outputs": [
      {
       "metadata": {},
       "output_type": "pyout",
       "prompt_number": 23,
       "text": [
        "0    0.213266\n",
        "1   -0.091899\n",
        "2   -0.089349\n",
        "3    0.265756\n",
        "4    0.376065\n",
        "dtype: float64"
       ]
      }
     ],
     "prompt_number": 23
    },
    {
     "cell_type": "code",
     "collapsed": false,
     "input": [
      "s2"
     ],
     "language": "python",
     "metadata": {},
     "outputs": [
      {
       "metadata": {},
       "output_type": "pyout",
       "prompt_number": 24,
       "text": [
        "0    0.688025\n",
        "1    0.510002\n",
        "2    1.914120\n",
        "3    0.724774\n",
        "4    0.124588\n",
        "dtype: float64"
       ]
      }
     ],
     "prompt_number": 24
    },
    {
     "cell_type": "code",
     "collapsed": false,
     "input": [
      "s1 + s2"
     ],
     "language": "python",
     "metadata": {},
     "outputs": [
      {
       "metadata": {},
       "output_type": "pyout",
       "prompt_number": 25,
       "text": [
        "0    0.901292\n",
        "1    0.418102\n",
        "2    1.824772\n",
        "3    0.990529\n",
        "4    0.500653\n",
        "dtype: float64"
       ]
      }
     ],
     "prompt_number": 25
    },
    {
     "cell_type": "markdown",
     "metadata": {},
     "source": [
      "\n",
      "However things get more complicated when they have different indices. Now when we try and add them it only does so on the overlapping index labels. Often times this may be what we want when we\u2019re analyzing data but other times it\u2019s not. In order to handle that we\u2019ve got to do some reindexing and use fill values.\n"
     ]
    },
    {
     "cell_type": "code",
     "collapsed": false,
     "input": [
      "s2.index = [range(3,8)]\n",
      "s2"
     ],
     "language": "python",
     "metadata": {},
     "outputs": [
      {
       "metadata": {},
       "output_type": "pyout",
       "prompt_number": 26,
       "text": [
        "3    0.688025\n",
        "4    0.510002\n",
        "5    1.914120\n",
        "6    0.724774\n",
        "7    0.124588\n",
        "dtype: float64"
       ]
      }
     ],
     "prompt_number": 26
    },
    {
     "cell_type": "code",
     "collapsed": false,
     "input": [
      "s1 + s2"
     ],
     "language": "python",
     "metadata": {},
     "outputs": [
      {
       "metadata": {},
       "output_type": "pyout",
       "prompt_number": 27,
       "text": [
        "0         NaN\n",
        "1         NaN\n",
        "2         NaN\n",
        "3    0.953781\n",
        "4    0.886067\n",
        "5         NaN\n",
        "6         NaN\n",
        "7         NaN\n",
        "dtype: float64"
       ]
      }
     ],
     "prompt_number": 27
    },
    {
     "cell_type": "code",
     "collapsed": false,
     "input": [
      "s1.reindex(range(10),fill_value=0) + s2.reindex(range(10),fill_value=0)"
     ],
     "language": "python",
     "metadata": {},
     "outputs": [
      {
       "metadata": {},
       "output_type": "pyout",
       "prompt_number": 28,
       "text": [
        "0    0.213266\n",
        "1   -0.091899\n",
        "2   -0.089349\n",
        "3    0.953781\n",
        "4    0.886067\n",
        "5    1.914120\n",
        "6    0.724774\n",
        "7    0.124588\n",
        "8    0.000000\n",
        "9    0.000000\n",
        "dtype: float64"
       ]
      }
     ],
     "prompt_number": 28
    },
    {
     "cell_type": "code",
     "collapsed": false,
     "input": [
      "s2.index = range(5)"
     ],
     "language": "python",
     "metadata": {},
     "outputs": [],
     "prompt_number": 29
    },
    {
     "cell_type": "code",
     "collapsed": false,
     "input": [
      "s1 = pd.Series(range(1,4), index= ['a','a','c'])\n",
      "s1"
     ],
     "language": "python",
     "metadata": {},
     "outputs": [
      {
       "metadata": {},
       "output_type": "pyout",
       "prompt_number": 30,
       "text": [
        "a    1\n",
        "a    2\n",
        "c    3\n",
        "dtype: int64"
       ]
      }
     ],
     "prompt_number": 30
    },
    {
     "cell_type": "code",
     "collapsed": false,
     "input": [
      "s2 = pd.Series(range(1,4), index=['a','a','b'])\n",
      "s2"
     ],
     "language": "python",
     "metadata": {},
     "outputs": [
      {
       "metadata": {},
       "output_type": "pyout",
       "prompt_number": 31,
       "text": [
        "a    1\n",
        "a    2\n",
        "b    3\n",
        "dtype: int64"
       ]
      }
     ],
     "prompt_number": 31
    },
    {
     "cell_type": "markdown",
     "metadata": {},
     "source": [
      "\n",
      "Finally when we have multiple labels on an index that are the same and we try to bring these Series together with some sort of operation. We\u2019re going to get some multiple. For example multiplying them is equal to performing a cartesian product or the two Series on those specific labels, in this example A.\n"
     ]
    },
    {
     "cell_type": "code",
     "collapsed": false,
     "input": [
      "s1 * s2"
     ],
     "language": "python",
     "metadata": {},
     "outputs": [
      {
       "metadata": {},
       "output_type": "pyout",
       "prompt_number": 32,
       "text": [
        "a     1\n",
        "a     2\n",
        "a     2\n",
        "a     4\n",
        "b   NaN\n",
        "c   NaN\n",
        "dtype: float64"
       ]
      }
     ],
     "prompt_number": 32
    },
    {
     "cell_type": "markdown",
     "metadata": {},
     "source": [
      "\n",
      "Adding them together means each one is added to each one.\n"
     ]
    },
    {
     "cell_type": "code",
     "collapsed": false,
     "input": [
      "s1 + s2"
     ],
     "language": "python",
     "metadata": {},
     "outputs": [
      {
       "metadata": {},
       "output_type": "pyout",
       "prompt_number": 33,
       "text": [
        "a     2\n",
        "a     3\n",
        "a     3\n",
        "a     4\n",
        "b   NaN\n",
        "c   NaN\n",
        "dtype: float64"
       ]
      }
     ],
     "prompt_number": 33
    },
    {
     "cell_type": "code",
     "collapsed": false,
     "input": [
      "s1"
     ],
     "language": "python",
     "metadata": {},
     "outputs": [
      {
       "metadata": {},
       "output_type": "pyout",
       "prompt_number": 34,
       "text": [
        "a    1\n",
        "a    2\n",
        "c    3\n",
        "dtype: int64"
       ]
      }
     ],
     "prompt_number": 34
    },
    {
     "cell_type": "markdown",
     "metadata": {},
     "source": [
      "\n",
      "Lastly sometime you\u2019re going to want to experiment with modification to Series or data frames. That can be done with the copy method which returns a copy of the data. That makes it easy to experiment with the data.\n"
     ]
    },
    {
     "cell_type": "code",
     "collapsed": false,
     "input": [
      "s1_copy = s1.copy()"
     ],
     "language": "python",
     "metadata": {},
     "outputs": [],
     "prompt_number": 35
    },
    {
     "cell_type": "code",
     "collapsed": false,
     "input": [
      "s1_copy['a'] = 3"
     ],
     "language": "python",
     "metadata": {},
     "outputs": [],
     "prompt_number": 36
    },
    {
     "cell_type": "code",
     "collapsed": false,
     "input": [
      "s1_copy"
     ],
     "language": "python",
     "metadata": {},
     "outputs": [
      {
       "metadata": {},
       "output_type": "pyout",
       "prompt_number": 37,
       "text": [
        "a    3\n",
        "a    3\n",
        "c    3\n",
        "dtype: int64"
       ]
      }
     ],
     "prompt_number": 37
    },
    {
     "cell_type": "code",
     "collapsed": false,
     "input": [
      "s1"
     ],
     "language": "python",
     "metadata": {},
     "outputs": [
      {
       "metadata": {},
       "output_type": "pyout",
       "prompt_number": 38,
       "text": [
        "a    1\n",
        "a    2\n",
        "c    3\n",
        "dtype: int64"
       ]
      }
     ],
     "prompt_number": 38
    },
    {
     "cell_type": "markdown",
     "metadata": {},
     "source": [
      "There are a couple more methods I want to touch on, most specifically map. "
     ]
    },
    {
     "cell_type": "code",
     "collapsed": false,
     "input": [
      "s1.map(lambda x: x ** 2)"
     ],
     "language": "python",
     "metadata": {},
     "outputs": [
      {
       "metadata": {},
       "output_type": "pyout",
       "prompt_number": 40,
       "text": [
        "a    1\n",
        "a    4\n",
        "c    9\n",
        "dtype: int64"
       ]
      }
     ],
     "prompt_number": 40
    },
    {
     "cell_type": "markdown",
     "metadata": {},
     "source": [
      "Maps are going to feel familiar from our raw python section, except we can do something a bit more special with the pandas Series Version. We can map it to a dictionary as well. This will perform a look up in the dictionary and return whatever is there."
     ]
    },
    {
     "cell_type": "code",
     "collapsed": false,
     "input": [
      "s1.map({1:2,2:3,3:12})"
     ],
     "language": "python",
     "metadata": {},
     "outputs": [
      {
       "metadata": {},
       "output_type": "pyout",
       "prompt_number": 41,
       "text": [
        "a     2\n",
        "a     3\n",
        "c    12\n",
        "dtype: int64"
       ]
      }
     ],
     "prompt_number": 41
    },
    {
     "cell_type": "markdown",
     "metadata": {},
     "source": [
      "If it doesn't find the value there, it will return NaN"
     ]
    },
    {
     "cell_type": "code",
     "collapsed": false,
     "input": [
      "s1.map({2:3,3:12})"
     ],
     "language": "python",
     "metadata": {},
     "outputs": [
      {
       "metadata": {},
       "output_type": "pyout",
       "prompt_number": 42,
       "text": [
        "a   NaN\n",
        "a     3\n",
        "c    12\n",
        "dtype: float64"
       ]
      }
     ],
     "prompt_number": 42
    },
    {
     "cell_type": "code",
     "collapsed": false,
     "input": [],
     "language": "python",
     "metadata": {},
     "outputs": []
    }
   ],
   "metadata": {}
  }
 ]
}