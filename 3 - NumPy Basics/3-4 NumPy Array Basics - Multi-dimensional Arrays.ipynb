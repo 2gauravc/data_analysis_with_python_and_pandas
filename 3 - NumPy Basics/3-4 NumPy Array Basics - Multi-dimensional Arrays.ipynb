{
 "metadata": {
  "name": "",
  "signature": "sha256:d542896ddb5e1a66f274b0703f8d9a35801d4e26526298e6becf42d418bdec3d"
 },
 "nbformat": 3,
 "nbformat_minor": 0,
 "worksheets": [
  {
   "cells": [
    {
     "cell_type": "heading",
     "level": 1,
     "metadata": {},
     "source": [
      "NumPy Array Basics - Multi-dimensional Arrays"
     ]
    },
    {
     "cell_type": "code",
     "collapsed": false,
     "input": [
      "import sys\n",
      "import numpy as np\n",
      "print sys.version"
     ],
     "language": "python",
     "metadata": {},
     "outputs": [
      {
       "output_type": "stream",
       "stream": "stdout",
       "text": [
        "2.7.6 (default, Sep  9 2014, 15:04:36) \n",
        "[GCC 4.2.1 Compatible Apple LLVM 6.0 (clang-600.0.39)]\n"
       ]
      }
     ],
     "prompt_number": 1
    },
    {
     "cell_type": "code",
     "collapsed": false,
     "input": [
      "npa = np.arange(25)"
     ],
     "language": "python",
     "metadata": {},
     "outputs": [],
     "prompt_number": 2
    },
    {
     "cell_type": "code",
     "collapsed": false,
     "input": [
      "npa"
     ],
     "language": "python",
     "metadata": {},
     "outputs": [
      {
       "metadata": {},
       "output_type": "pyout",
       "prompt_number": 3,
       "text": [
        "array([ 0,  1,  2,  3,  4,  5,  6,  7,  8,  9, 10, 11, 12, 13, 14, 15, 16,\n",
        "       17, 18, 19, 20, 21, 22, 23, 24])"
       ]
      }
     ],
     "prompt_number": 3
    },
    {
     "cell_type": "markdown",
     "metadata": {},
     "source": [
      "We learned in the last video how to generate arrays, now let\u2019s generate multidimensional arrays. These are, as you might guess, arrays with multiple dimensions."
     ]
    },
    {
     "cell_type": "markdown",
     "metadata": {},
     "source": [
      "We can create these by reshaping arrays. One of the simplest ways is to just reshape an array with the reshape command. That gives us an x by x array."
     ]
    },
    {
     "cell_type": "code",
     "collapsed": false,
     "input": [
      "npa.reshape((5,5))"
     ],
     "language": "python",
     "metadata": {},
     "outputs": [
      {
       "metadata": {},
       "output_type": "pyout",
       "prompt_number": 4,
       "text": [
        "array([[ 0,  1,  2,  3,  4],\n",
        "       [ 5,  6,  7,  8,  9],\n",
        "       [10, 11, 12, 13, 14],\n",
        "       [15, 16, 17, 18, 19],\n",
        "       [20, 21, 22, 23, 24]])"
       ]
      }
     ],
     "prompt_number": 4
    },
    {
     "cell_type": "markdown",
     "metadata": {},
     "source": [
      "We can also use the zeros commands."
     ]
    },
    {
     "cell_type": "code",
     "collapsed": false,
     "input": [
      "npa2 = np.zeros((5,5))"
     ],
     "language": "python",
     "metadata": {},
     "outputs": [],
     "prompt_number": 5
    },
    {
     "cell_type": "code",
     "collapsed": false,
     "input": [
      "npa2"
     ],
     "language": "python",
     "metadata": {},
     "outputs": [
      {
       "metadata": {},
       "output_type": "pyout",
       "prompt_number": 6,
       "text": [
        "array([[ 0.,  0.,  0.,  0.,  0.],\n",
        "       [ 0.,  0.,  0.,  0.,  0.],\n",
        "       [ 0.,  0.,  0.,  0.,  0.],\n",
        "       [ 0.,  0.,  0.,  0.,  0.],\n",
        "       [ 0.,  0.,  0.,  0.,  0.]])"
       ]
      }
     ],
     "prompt_number": 6
    },
    {
     "cell_type": "markdown",
     "metadata": {},
     "source": [
      "To get the size of the array we can use the size method."
     ]
    },
    {
     "cell_type": "code",
     "collapsed": false,
     "input": [
      "npa2.size"
     ],
     "language": "python",
     "metadata": {},
     "outputs": [
      {
       "metadata": {},
       "output_type": "pyout",
       "prompt_number": 7,
       "text": [
        "25"
       ]
      }
     ],
     "prompt_number": 7
    },
    {
     "cell_type": "markdown",
     "metadata": {},
     "source": [
      "To get the shape of the array we can use the shape method."
     ]
    },
    {
     "cell_type": "code",
     "collapsed": false,
     "input": [
      "npa2.shape"
     ],
     "language": "python",
     "metadata": {},
     "outputs": [
      {
       "metadata": {},
       "output_type": "pyout",
       "prompt_number": 8,
       "text": [
        "(5, 5)"
       ]
      }
     ],
     "prompt_number": 8
    },
    {
     "cell_type": "markdown",
     "metadata": {},
     "source": [
      "to get the number of dimension we use the ndim method."
     ]
    },
    {
     "cell_type": "code",
     "collapsed": false,
     "input": [
      "npa2.ndim"
     ],
     "language": "python",
     "metadata": {},
     "outputs": [
      {
       "metadata": {},
       "output_type": "pyout",
       "prompt_number": 9,
       "text": [
        "2"
       ]
      }
     ],
     "prompt_number": 9
    },
    {
     "cell_type": "markdown",
     "metadata": {},
     "source": [
      "We can create as many dimensions as we need to, here's 3 dimensions."
     ]
    },
    {
     "cell_type": "code",
     "collapsed": false,
     "input": [
      "np.arange(8).reshape(2,2,2)"
     ],
     "language": "python",
     "metadata": {},
     "outputs": [
      {
       "metadata": {},
       "output_type": "pyout",
       "prompt_number": 10,
       "text": [
        "array([[[0, 1],\n",
        "        [2, 3]],\n",
        "\n",
        "       [[4, 5],\n",
        "        [6, 7]]])"
       ]
      }
     ],
     "prompt_number": 10
    },
    {
     "cell_type": "markdown",
     "metadata": {},
     "source": [
      "Here's 4 dimensions"
     ]
    },
    {
     "cell_type": "code",
     "collapsed": false,
     "input": [
      "np.zeros((4,4,4,4))"
     ],
     "language": "python",
     "metadata": {},
     "outputs": [
      {
       "metadata": {},
       "output_type": "pyout",
       "prompt_number": 11,
       "text": [
        "array([[[[ 0.,  0.,  0.,  0.],\n",
        "         [ 0.,  0.,  0.,  0.],\n",
        "         [ 0.,  0.,  0.,  0.],\n",
        "         [ 0.,  0.,  0.,  0.]],\n",
        "\n",
        "        [[ 0.,  0.,  0.,  0.],\n",
        "         [ 0.,  0.,  0.,  0.],\n",
        "         [ 0.,  0.,  0.,  0.],\n",
        "         [ 0.,  0.,  0.,  0.]],\n",
        "\n",
        "        [[ 0.,  0.,  0.,  0.],\n",
        "         [ 0.,  0.,  0.,  0.],\n",
        "         [ 0.,  0.,  0.,  0.],\n",
        "         [ 0.,  0.,  0.,  0.]],\n",
        "\n",
        "        [[ 0.,  0.,  0.,  0.],\n",
        "         [ 0.,  0.,  0.,  0.],\n",
        "         [ 0.,  0.,  0.,  0.],\n",
        "         [ 0.,  0.,  0.,  0.]]],\n",
        "\n",
        "\n",
        "       [[[ 0.,  0.,  0.,  0.],\n",
        "         [ 0.,  0.,  0.,  0.],\n",
        "         [ 0.,  0.,  0.,  0.],\n",
        "         [ 0.,  0.,  0.,  0.]],\n",
        "\n",
        "        [[ 0.,  0.,  0.,  0.],\n",
        "         [ 0.,  0.,  0.,  0.],\n",
        "         [ 0.,  0.,  0.,  0.],\n",
        "         [ 0.,  0.,  0.,  0.]],\n",
        "\n",
        "        [[ 0.,  0.,  0.,  0.],\n",
        "         [ 0.,  0.,  0.,  0.],\n",
        "         [ 0.,  0.,  0.,  0.],\n",
        "         [ 0.,  0.,  0.,  0.]],\n",
        "\n",
        "        [[ 0.,  0.,  0.,  0.],\n",
        "         [ 0.,  0.,  0.,  0.],\n",
        "         [ 0.,  0.,  0.,  0.],\n",
        "         [ 0.,  0.,  0.,  0.]]],\n",
        "\n",
        "\n",
        "       [[[ 0.,  0.,  0.,  0.],\n",
        "         [ 0.,  0.,  0.,  0.],\n",
        "         [ 0.,  0.,  0.,  0.],\n",
        "         [ 0.,  0.,  0.,  0.]],\n",
        "\n",
        "        [[ 0.,  0.,  0.,  0.],\n",
        "         [ 0.,  0.,  0.,  0.],\n",
        "         [ 0.,  0.,  0.,  0.],\n",
        "         [ 0.,  0.,  0.,  0.]],\n",
        "\n",
        "        [[ 0.,  0.,  0.,  0.],\n",
        "         [ 0.,  0.,  0.,  0.],\n",
        "         [ 0.,  0.,  0.,  0.],\n",
        "         [ 0.,  0.,  0.,  0.]],\n",
        "\n",
        "        [[ 0.,  0.,  0.,  0.],\n",
        "         [ 0.,  0.,  0.,  0.],\n",
        "         [ 0.,  0.,  0.,  0.],\n",
        "         [ 0.,  0.,  0.,  0.]]],\n",
        "\n",
        "\n",
        "       [[[ 0.,  0.,  0.,  0.],\n",
        "         [ 0.,  0.,  0.,  0.],\n",
        "         [ 0.,  0.,  0.,  0.],\n",
        "         [ 0.,  0.,  0.,  0.]],\n",
        "\n",
        "        [[ 0.,  0.,  0.,  0.],\n",
        "         [ 0.,  0.,  0.,  0.],\n",
        "         [ 0.,  0.,  0.,  0.],\n",
        "         [ 0.,  0.,  0.,  0.]],\n",
        "\n",
        "        [[ 0.,  0.,  0.,  0.],\n",
        "         [ 0.,  0.,  0.,  0.],\n",
        "         [ 0.,  0.,  0.,  0.],\n",
        "         [ 0.,  0.,  0.,  0.]],\n",
        "\n",
        "        [[ 0.,  0.,  0.,  0.],\n",
        "         [ 0.,  0.,  0.,  0.],\n",
        "         [ 0.,  0.,  0.,  0.],\n",
        "         [ 0.,  0.,  0.,  0.]]]])"
       ]
      }
     ],
     "prompt_number": 11
    },
    {
     "cell_type": "code",
     "collapsed": false,
     "input": [
      "np.arange(16).reshape(2,2,2,2)"
     ],
     "language": "python",
     "metadata": {},
     "outputs": [
      {
       "metadata": {},
       "output_type": "pyout",
       "prompt_number": 12,
       "text": [
        "array([[[[ 0,  1],\n",
        "         [ 2,  3]],\n",
        "\n",
        "        [[ 4,  5],\n",
        "         [ 6,  7]]],\n",
        "\n",
        "\n",
        "       [[[ 8,  9],\n",
        "         [10, 11]],\n",
        "\n",
        "        [[12, 13],\n",
        "         [14, 15]]]])"
       ]
      }
     ],
     "prompt_number": 12
    },
    {
     "cell_type": "markdown",
     "metadata": {},
     "source": [
      "For the most part we\u2019ll be working with 2 dimensions."
     ]
    },
    {
     "cell_type": "code",
     "collapsed": false,
     "input": [
      "npa2"
     ],
     "language": "python",
     "metadata": {},
     "outputs": [
      {
       "metadata": {},
       "output_type": "pyout",
       "prompt_number": 13,
       "text": [
        "array([[ 0.,  0.,  0.,  0.,  0.],\n",
        "       [ 0.,  0.,  0.,  0.,  0.],\n",
        "       [ 0.,  0.,  0.,  0.,  0.],\n",
        "       [ 0.,  0.,  0.,  0.,  0.],\n",
        "       [ 0.,  0.,  0.,  0.,  0.]])"
       ]
      }
     ],
     "prompt_number": 13
    },
    {
     "cell_type": "code",
     "collapsed": false,
     "input": [
      "npa"
     ],
     "language": "python",
     "metadata": {},
     "outputs": [
      {
       "metadata": {},
       "output_type": "pyout",
       "prompt_number": 14,
       "text": [
        "array([ 0,  1,  2,  3,  4,  5,  6,  7,  8,  9, 10, 11, 12, 13, 14, 15, 16,\n",
        "       17, 18, 19, 20, 21, 22, 23, 24])"
       ]
      }
     ],
     "prompt_number": 14
    },
    {
     "cell_type": "markdown",
     "metadata": {},
     "source": [
      "Now we can really see the power of vectorization, let\u2019s create two random 2 dimensional arrays.\n",
      "\n",
      "Now I\u2019m going to set the random seed. This basically makes your random number generation reproducible."
     ]
    },
    {
     "cell_type": "code",
     "collapsed": false,
     "input": [
      "np.random.seed(10)"
     ],
     "language": "python",
     "metadata": {},
     "outputs": [],
     "prompt_number": 23
    },
    {
     "cell_type": "markdown",
     "metadata": {},
     "source": [
      "let\u2019s try some random number generation and then we can perform some matrix comparisons."
     ]
    },
    {
     "cell_type": "code",
     "collapsed": false,
     "input": [
      "npa2 = np.random.random_integers(1,10,25).reshape(5,5)\n",
      "npa2"
     ],
     "language": "python",
     "metadata": {},
     "outputs": [
      {
       "metadata": {},
       "output_type": "pyout",
       "prompt_number": 24,
       "text": [
        "array([[10,  5,  1,  2, 10],\n",
        "       [ 1,  2,  9, 10,  1],\n",
        "       [ 9,  7,  5,  4,  1],\n",
        "       [ 5,  7,  9,  2,  9],\n",
        "       [ 5,  2,  4,  7,  6]])"
       ]
      }
     ],
     "prompt_number": 24
    },
    {
     "cell_type": "code",
     "collapsed": false,
     "input": [
      "npa3 = np.random.random_integers(1,10,25).reshape(5,5)\n",
      "npa3"
     ],
     "language": "python",
     "metadata": {},
     "outputs": [
      {
       "metadata": {},
       "output_type": "pyout",
       "prompt_number": 25,
       "text": [
        "array([[ 4, 10,  7, 10,  2],\n",
        "       [10,  5,  3,  7,  8],\n",
        "       [ 9,  9, 10,  3,  1],\n",
        "       [ 7,  8,  9,  2,  8],\n",
        "       [ 2,  5,  1,  9,  6]])"
       ]
      }
     ],
     "prompt_number": 25
    },
    {
     "cell_type": "markdown",
     "metadata": {},
     "source": [
      "We can do this comparison with greater than or equal to."
     ]
    },
    {
     "cell_type": "code",
     "collapsed": false,
     "input": [
      "npa2 > npa3"
     ],
     "language": "python",
     "metadata": {},
     "outputs": [
      {
       "metadata": {},
       "output_type": "pyout",
       "prompt_number": 49,
       "text": [
        "array([[ True, False, False, False,  True],\n",
        "       [False, False,  True,  True, False],\n",
        "       [False, False, False,  True, False],\n",
        "       [False, False, False, False,  True],\n",
        "       [ True, False,  True, False, False]], dtype=bool)"
       ]
      }
     ],
     "prompt_number": 49
    },
    {
     "cell_type": "markdown",
     "metadata": {},
     "source": [
      "We can also sum up the values where there are equal."
     ]
    },
    {
     "cell_type": "code",
     "collapsed": false,
     "input": [
      "(npa2 == npa3).sum()"
     ],
     "language": "python",
     "metadata": {},
     "outputs": [
      {
       "metadata": {},
       "output_type": "pyout",
       "prompt_number": 50,
       "text": [
        "5"
       ]
      }
     ],
     "prompt_number": 50
    },
    {
     "cell_type": "markdown",
     "metadata": {},
     "source": [
      "Or we can sum where one is greater than or equal to in the columns.\n",
      "\n",
      "We can do that with sum or we could get the total by summing that array."
     ]
    },
    {
     "cell_type": "code",
     "collapsed": false,
     "input": [
      "sum(npa2 >= npa3)"
     ],
     "language": "python",
     "metadata": {},
     "outputs": [
      {
       "metadata": {},
       "output_type": "pyout",
       "prompt_number": 52,
       "text": [
        "array([3, 0, 3, 3, 4])"
       ]
      }
     ],
     "prompt_number": 52
    },
    {
     "cell_type": "code",
     "collapsed": false,
     "input": [
      "sum(npa2 >= npa3).sum()"
     ],
     "language": "python",
     "metadata": {},
     "outputs": [
      {
       "metadata": {},
       "output_type": "pyout",
       "prompt_number": 51,
       "text": [
        "13"
       ]
      }
     ],
     "prompt_number": 51
    },
    {
     "cell_type": "markdown",
     "metadata": {},
     "source": [
      "We can also get the minimums and maximums like we got with single dimensional arrays or for specific dimensions.\n"
     ]
    },
    {
     "cell_type": "code",
     "collapsed": false,
     "input": [
      "npa2.min()"
     ],
     "language": "python",
     "metadata": {},
     "outputs": [
      {
       "metadata": {},
       "output_type": "pyout",
       "prompt_number": 29,
       "text": [
        "1"
       ]
      }
     ],
     "prompt_number": 29
    },
    {
     "cell_type": "code",
     "collapsed": false,
     "input": [
      "npa2.min(axis=1)"
     ],
     "language": "python",
     "metadata": {},
     "outputs": [
      {
       "metadata": {},
       "output_type": "pyout",
       "prompt_number": 31,
       "text": [
        "array([1, 1, 1, 2, 2])"
       ]
      }
     ],
     "prompt_number": 31
    },
    {
     "cell_type": "code",
     "collapsed": false,
     "input": [
      "npa2.max(axis=0)"
     ],
     "language": "python",
     "metadata": {},
     "outputs": [
      {
       "metadata": {},
       "output_type": "pyout",
       "prompt_number": 33,
       "text": [
        "array([10,  7,  9, 10, 10])"
       ]
      }
     ],
     "prompt_number": 33
    },
    {
     "cell_type": "markdown",
     "metadata": {},
     "source": [
      "There are plenty of other functions that numpy as. we can transpose with .T property or transpose method. "
     ]
    },
    {
     "cell_type": "code",
     "collapsed": false,
     "input": [
      "npa2.T"
     ],
     "language": "python",
     "metadata": {},
     "outputs": [
      {
       "metadata": {},
       "output_type": "pyout",
       "prompt_number": 34,
       "text": [
        "array([[10,  1,  9,  5,  5],\n",
        "       [ 5,  2,  7,  7,  2],\n",
        "       [ 1,  9,  5,  9,  4],\n",
        "       [ 2, 10,  4,  2,  7],\n",
        "       [10,  1,  1,  9,  6]])"
       ]
      }
     ],
     "prompt_number": 34
    },
    {
     "cell_type": "code",
     "collapsed": false,
     "input": [
      "npa2.transpose()"
     ],
     "language": "python",
     "metadata": {},
     "outputs": [
      {
       "metadata": {},
       "output_type": "pyout",
       "prompt_number": 36,
       "text": [
        "array([[10,  1,  9,  5,  5],\n",
        "       [ 5,  2,  7,  7,  2],\n",
        "       [ 1,  9,  5,  9,  4],\n",
        "       [ 2, 10,  4,  2,  7],\n",
        "       [10,  1,  1,  9,  6]])"
       ]
      }
     ],
     "prompt_number": 36
    },
    {
     "cell_type": "code",
     "collapsed": false,
     "input": [
      "npa2.T == npa2.transpose()"
     ],
     "language": "python",
     "metadata": {},
     "outputs": [
      {
       "metadata": {},
       "output_type": "pyout",
       "prompt_number": 38,
       "text": [
        "array([[ True,  True,  True,  True,  True],\n",
        "       [ True,  True,  True,  True,  True],\n",
        "       [ True,  True,  True,  True,  True],\n",
        "       [ True,  True,  True,  True,  True],\n",
        "       [ True,  True,  True,  True,  True]], dtype=bool)"
       ]
      }
     ],
     "prompt_number": 38
    },
    {
     "cell_type": "markdown",
     "metadata": {},
     "source": [
      "We can also multiply this transposition by itself for example. This will be an item by item multiplication"
     ]
    },
    {
     "cell_type": "code",
     "collapsed": false,
     "input": [
      "npa2.T * npa2"
     ],
     "language": "python",
     "metadata": {},
     "outputs": [
      {
       "metadata": {},
       "output_type": "pyout",
       "prompt_number": 39,
       "text": [
        "array([[100,   5,   9,  10,  50],\n",
        "       [  5,   4,  63,  70,   2],\n",
        "       [  9,  63,  25,  36,   4],\n",
        "       [ 10,  70,  36,   4,  63],\n",
        "       [ 50,   2,   4,  63,  36]])"
       ]
      }
     ],
     "prompt_number": 39
    },
    {
     "cell_type": "markdown",
     "metadata": {},
     "source": [
      "We can flatten these arrays in several different ways.\n",
      "\n",
      "we can flatten it, which returns a new array that we can change\n"
     ]
    },
    {
     "cell_type": "code",
     "collapsed": false,
     "input": [
      "np2 = npa2.flatten()\n",
      "np2"
     ],
     "language": "python",
     "metadata": {},
     "outputs": [
      {
       "metadata": {},
       "output_type": "pyout",
       "prompt_number": 53,
       "text": [
        "array([10,  5,  1,  2, 10,  1,  2,  9, 10,  1,  9,  7,  5,  4,  1,  5,  7,\n",
        "        9,  2,  9,  5,  2,  4,  7,  6])"
       ]
      }
     ],
     "prompt_number": 53
    },
    {
     "cell_type": "markdown",
     "metadata": {},
     "source": [
      "or we can ravel it which ends up returning the original array in a flattened format."
     ]
    },
    {
     "cell_type": "code",
     "collapsed": false,
     "input": [
      "r = npa2.ravel()\n",
      "r"
     ],
     "language": "python",
     "metadata": {},
     "outputs": [
      {
       "metadata": {},
       "output_type": "pyout",
       "prompt_number": 44,
       "text": [
        "array([10,  5,  1,  2, 10,  1,  2,  9, 10,  1,  9,  7,  5,  4,  1,  5,  7,\n",
        "        9,  2,  9,  5,  2,  4,  7,  6])"
       ]
      }
     ],
     "prompt_number": 44
    },
    {
     "cell_type": "code",
     "collapsed": false,
     "input": [
      "np2[0] = 25"
     ],
     "language": "python",
     "metadata": {},
     "outputs": [],
     "prompt_number": 67
    },
    {
     "cell_type": "code",
     "collapsed": false,
     "input": [
      "npa2"
     ],
     "language": "python",
     "metadata": {},
     "outputs": [
      {
       "metadata": {},
       "output_type": "pyout",
       "prompt_number": 68,
       "text": [
        "array([[25,  5,  1,  2, 10],\n",
        "       [ 1,  2,  9, 10,  1],\n",
        "       [ 9,  7,  5,  4,  1],\n",
        "       [ 5,  7,  9,  2,  9],\n",
        "       [ 5,  2,  4,  7,  6]])"
       ]
      }
     ],
     "prompt_number": 68
    },
    {
     "cell_type": "markdown",
     "metadata": {},
     "source": [
      "With ravel if we change a value in the raveled array that will change it in the original n-dimensional array as well"
     ]
    },
    {
     "cell_type": "code",
     "collapsed": false,
     "input": [
      "r[0] = 25"
     ],
     "language": "python",
     "metadata": {},
     "outputs": [],
     "prompt_number": 65
    },
    {
     "cell_type": "code",
     "collapsed": false,
     "input": [
      "npa2"
     ],
     "language": "python",
     "metadata": {},
     "outputs": [
      {
       "metadata": {},
       "output_type": "pyout",
       "prompt_number": 66,
       "text": [
        "array([[25,  5,  1,  2, 10],\n",
        "       [ 1,  2,  9, 10,  1],\n",
        "       [ 9,  7,  5,  4,  1],\n",
        "       [ 5,  7,  9,  2,  9],\n",
        "       [ 5,  2,  4,  7,  6]])"
       ]
      }
     ],
     "prompt_number": 66
    },
    {
     "cell_type": "markdown",
     "metadata": {},
     "source": [
      "\n",
      "Now we can use some other helpful functions like cumsum and comprod to get the cumulative products and sums. This works for any dimensional array."
     ]
    },
    {
     "cell_type": "code",
     "collapsed": false,
     "input": [
      "npa2.cumsum()"
     ],
     "language": "python",
     "metadata": {},
     "outputs": [
      {
       "metadata": {},
       "output_type": "pyout",
       "prompt_number": 47,
       "text": [
        "array([ 10,  15,  16,  18,  28,  29,  31,  40,  50,  51,  60,  67,  72,\n",
        "        76,  77,  82,  89,  98, 100, 109, 114, 116, 120, 127, 133])"
       ]
      }
     ],
     "prompt_number": 47
    },
    {
     "cell_type": "code",
     "collapsed": false,
     "input": [
      "npa2.cumprod()"
     ],
     "language": "python",
     "metadata": {},
     "outputs": [
      {
       "metadata": {},
       "output_type": "pyout",
       "prompt_number": 69,
       "text": [
        "array([              25,              125,              125,\n",
        "                    250,             2500,             2500,\n",
        "                   5000,            45000,           450000,\n",
        "                 450000,          4050000,         28350000,\n",
        "              141750000,        567000000,        567000000,\n",
        "             2835000000,      19845000000,     178605000000,\n",
        "           357210000000,    3214890000000,   16074450000000,\n",
        "         32148900000000,  128595600000000,  900169200000000,\n",
        "       5401015200000000])"
       ]
      }
     ],
     "prompt_number": 69
    },
    {
     "cell_type": "markdown",
     "metadata": {},
     "source": [
      "\n",
      "That really covers a lot of the basic functions you\u2019re going to use or need when working with pandas but it is worth being aware that numpy is a very deep library that does a lot more things that I've covered here. I wanted to cover these basics because they're going to come up when we're working with pandas. I'm sure this has felt fairly academic at this point but I can promise you that it provides a valuable foundation to pandas.\n",
      "\n",
      "\n",
      "need. If there\u2019s anything you have questions about feel free to ask along the side and I can create some appendix videos to help you along.\n"
     ]
    },
    {
     "cell_type": "code",
     "collapsed": false,
     "input": [],
     "language": "python",
     "metadata": {},
     "outputs": []
    }
   ],
   "metadata": {}
  }
 ]
}