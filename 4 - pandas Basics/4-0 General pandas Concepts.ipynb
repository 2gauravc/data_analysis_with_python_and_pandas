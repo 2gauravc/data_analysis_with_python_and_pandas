{
 "metadata": {
  "name": "",
  "signature": "sha256:491204204a0232464d114986a804c169a186d8d474971ee2c57e33fa6f494856"
 },
 "nbformat": 3,
 "nbformat_minor": 0,
 "worksheets": [
  {
   "cells": [
    {
     "cell_type": "heading",
     "level": 1,
     "metadata": {},
     "source": [
      "General pandas Concepts"
     ]
    },
    {
     "cell_type": "code",
     "collapsed": false,
     "input": [
      "import sys\n",
      "import numpy as np\n",
      "import pandas as pd\n",
      "print sys.version\n",
      "print pd.__version__"
     ],
     "language": "python",
     "metadata": {},
     "outputs": [
      {
       "output_type": "stream",
       "stream": "stdout",
       "text": [
        "2.7.6 (default, Sep  9 2014, 15:04:36) \n",
        "[GCC 4.2.1 Compatible Apple LLVM 6.0 (clang-600.0.39)]\n",
        "0.15.0\n"
       ]
      }
     ],
     "prompt_number": 24
    },
    {
     "cell_type": "markdown",
     "metadata": {},
     "source": [
      "Now we\u2019ve covered numpy the basis for pandas. We\u2019ve covered some of the more advanced python concepts like list comprehensions and lambda functions. Let\u2019s jump back to our roadmap.\n",
      "\n",
      "We\u2019ve covered the general ecosystem. We\u2019ve covered a lot of numpy, now let\u2019s get our hands dirty with some real data and actually using pandas. I hope you\u2019ve watched the numpy videos that we covered earlier, they may seem academic but they\u2019re really going to provide a fantastic foundation for what we\u2019re going to learn now.\n",
      "\n",
      "Now I'm going to breeze through a couple of subjects right now. Don\u2019t feel the need to take notes or even try this code yourself. You can if you like, but it\u2019s mainly to introduce you to the power of pandas, not for you to copy.\n",
      "\n",
      "Pandas is made up of a couple of core types."
     ]
    },
    {
     "cell_type": "markdown",
     "metadata": {},
     "source": [
      "We\u2019ve got an index. The index is a way of querying the data in an array or Series or querying the data in a Series or DataFrame."
     ]
    },
    {
     "cell_type": "code",
     "collapsed": false,
     "input": [
      "pd.Index"
     ],
     "language": "python",
     "metadata": {},
     "outputs": [
      {
       "metadata": {},
       "output_type": "pyout",
       "prompt_number": 2,
       "text": [
        "pandas.core.index.Index"
       ]
      }
     ],
     "prompt_number": 2
    },
    {
     "cell_type": "markdown",
     "metadata": {},
     "source": [
      "\n",
      "We\u2019ve got the Series. The Series is like a 1 dimensional array in numpy. It has some helper functions and an index that allows for querying of the data in simple ways.\n",
      "\n",
      "We can make a simple Series from a numpy array.\n"
     ]
    },
    {
     "cell_type": "code",
     "collapsed": false,
     "input": [
      "pd.Series"
     ],
     "language": "python",
     "metadata": {},
     "outputs": [
      {
       "metadata": {},
       "output_type": "pyout",
       "prompt_number": 3,
       "text": [
        "pandas.core.series.Series"
       ]
      }
     ],
     "prompt_number": 3
    },
    {
     "cell_type": "code",
     "collapsed": false,
     "input": [
      "series_ex = pd.Series(np.arange(26))\n",
      "series_ex"
     ],
     "language": "python",
     "metadata": {},
     "outputs": [
      {
       "metadata": {},
       "output_type": "pyout",
       "prompt_number": 4,
       "text": [
        "0      0\n",
        "1      1\n",
        "2      2\n",
        "3      3\n",
        "4      4\n",
        "5      5\n",
        "6      6\n",
        "7      7\n",
        "8      8\n",
        "9      9\n",
        "10    10\n",
        "11    11\n",
        "12    12\n",
        "13    13\n",
        "14    14\n",
        "15    15\n",
        "16    16\n",
        "17    17\n",
        "18    18\n",
        "19    19\n",
        "20    20\n",
        "21    21\n",
        "22    22\n",
        "23    23\n",
        "24    24\n",
        "25    25\n",
        "dtype: int64"
       ]
      }
     ],
     "prompt_number": 4
    },
    {
     "cell_type": "markdown",
     "metadata": {},
     "source": [
      "Now that we\u2019ve created it. We can see it has an index, that we just talked about, as well as values. When we print these out, they should look similar - just like numpy arrays. Now here is where the series gets powerful."
     ]
    },
    {
     "cell_type": "code",
     "collapsed": false,
     "input": [
      "series_ex.index"
     ],
     "language": "python",
     "metadata": {},
     "outputs": [
      {
       "metadata": {},
       "output_type": "pyout",
       "prompt_number": 5,
       "text": [
        "Int64Index([0, 1, 2, 3, 4, 5, 6, 7, 8, 9, 10, 11, 12, 13, 14, 15, 16, 17, 18, 19, 20, 21, 22, 23, 24, 25], dtype='int64')"
       ]
      }
     ],
     "prompt_number": 5
    },
    {
     "cell_type": "markdown",
     "metadata": {},
     "source": [
      "we can replace the index with our own index. In this example I\u2019ll use the lower case values of ascii characters."
     ]
    },
    {
     "cell_type": "code",
     "collapsed": false,
     "input": [
      "import string\n",
      "lcase = string.ascii_lowercase\n",
      "ucase = string.ascii_uppercase\n",
      "print lcase, ucase"
     ],
     "language": "python",
     "metadata": {},
     "outputs": [
      {
       "output_type": "stream",
       "stream": "stdout",
       "text": [
        "abcdefghijklmnopqrstuvwxyz ABCDEFGHIJKLMNOPQRSTUVWXYZ\n"
       ]
      }
     ],
     "prompt_number": 6
    },
    {
     "cell_type": "code",
     "collapsed": false,
     "input": [
      "lcase = list(lcase)\n",
      "ucase = list(ucase)\n",
      "print lcase\n",
      "print ucase"
     ],
     "language": "python",
     "metadata": {},
     "outputs": [
      {
       "output_type": "stream",
       "stream": "stdout",
       "text": [
        "['a', 'b', 'c', 'd', 'e', 'f', 'g', 'h', 'i', 'j', 'k', 'l', 'm', 'n', 'o', 'p', 'q', 'r', 's', 't', 'u', 'v', 'w', 'x', 'y', 'z']\n",
        "['A', 'B', 'C', 'D', 'E', 'F', 'G', 'H', 'I', 'J', 'K', 'L', 'M', 'N', 'O', 'P', 'Q', 'R', 'S', 'T', 'U', 'V', 'W', 'X', 'Y', 'Z']\n"
       ]
      }
     ],
     "prompt_number": 7
    },
    {
     "cell_type": "code",
     "collapsed": false,
     "input": [
      "series_ex.index = lcase"
     ],
     "language": "python",
     "metadata": {},
     "outputs": [],
     "prompt_number": 8
    },
    {
     "cell_type": "code",
     "collapsed": false,
     "input": [
      "series_ex.index"
     ],
     "language": "python",
     "metadata": {},
     "outputs": [
      {
       "metadata": {},
       "output_type": "pyout",
       "prompt_number": 9,
       "text": [
        "Index([u'a', u'b', u'c', u'd', u'e', u'f', u'g', u'h', u'i', u'j', u'k', u'l', u'm', u'n', u'o', u'p', u'q', u'r', u's', u't', u'u', u'v', u'w', u'x', u'y', u'z'], dtype='object')"
       ]
      }
     ],
     "prompt_number": 9
    },
    {
     "cell_type": "code",
     "collapsed": false,
     "input": [
      "series_ex"
     ],
     "language": "python",
     "metadata": {},
     "outputs": [
      {
       "metadata": {},
       "output_type": "pyout",
       "prompt_number": 10,
       "text": [
        "a     0\n",
        "b     1\n",
        "c     2\n",
        "d     3\n",
        "e     4\n",
        "f     5\n",
        "g     6\n",
        "h     7\n",
        "i     8\n",
        "j     9\n",
        "k    10\n",
        "l    11\n",
        "m    12\n",
        "n    13\n",
        "o    14\n",
        "p    15\n",
        "q    16\n",
        "r    17\n",
        "s    18\n",
        "t    19\n",
        "u    20\n",
        "v    21\n",
        "w    22\n",
        "x    23\n",
        "y    24\n",
        "z    25\n",
        "dtype: int64"
       ]
      }
     ],
     "prompt_number": 10
    },
    {
     "cell_type": "markdown",
     "metadata": {},
     "source": [
      "Now we can query just like we would if an array. You can think of the Series like an extremely powerful array.\n",
      "\n",
      "We can query either sections or specific values."
     ]
    },
    {
     "cell_type": "code",
     "collapsed": false,
     "input": [
      "series_ex.ix['d':'k']"
     ],
     "language": "python",
     "metadata": {},
     "outputs": [
      {
       "metadata": {},
       "output_type": "pyout",
       "prompt_number": 11,
       "text": [
        "d     3\n",
        "e     4\n",
        "f     5\n",
        "g     6\n",
        "h     7\n",
        "i     8\n",
        "j     9\n",
        "k    10\n",
        "dtype: int64"
       ]
      }
     ],
     "prompt_number": 11
    },
    {
     "cell_type": "code",
     "collapsed": false,
     "input": [
      "series_ex.ix['f']"
     ],
     "language": "python",
     "metadata": {},
     "outputs": [
      {
       "metadata": {},
       "output_type": "pyout",
       "prompt_number": 12,
       "text": [
        "5"
       ]
      }
     ],
     "prompt_number": 12
    },
    {
     "cell_type": "markdown",
     "metadata": {},
     "source": [
      "Now don\u2019t worry about the functions that I\u2019m using. We\u2019re going to go over those in detail - I just wanted to introduce the concept."
     ]
    },
    {
     "cell_type": "markdown",
     "metadata": {},
     "source": [
      "We\u2019ve got the DataFrame which is like a matrix or series of series\u2019. It also has an index (or multiple indexes)."
     ]
    },
    {
     "cell_type": "code",
     "collapsed": false,
     "input": [
      "pd.DataFrame"
     ],
     "language": "python",
     "metadata": {},
     "outputs": [
      {
       "metadata": {},
       "output_type": "pyout",
       "prompt_number": 13,
       "text": [
        "pandas.core.frame.DataFrame"
       ]
      }
     ],
     "prompt_number": 13
    },
    {
     "cell_type": "markdown",
     "metadata": {},
     "source": [
      "Let\u2019s go ahead and create one. We\u2019ve make it from the lowercase, uppercase, and a number range."
     ]
    },
    {
     "cell_type": "code",
     "collapsed": false,
     "input": [
      "letters = pd.DataFrame([lcase, ucase, range(26)])\n",
      "letters"
     ],
     "language": "python",
     "metadata": {},
     "outputs": [
      {
       "html": [
        "<div style=\"max-height:1000px;max-width:1500px;overflow:auto;\">\n",
        "<table border=\"1\" class=\"dataframe\">\n",
        "  <thead>\n",
        "    <tr style=\"text-align: right;\">\n",
        "      <th></th>\n",
        "      <th>0</th>\n",
        "      <th>1</th>\n",
        "      <th>2</th>\n",
        "      <th>3</th>\n",
        "      <th>4</th>\n",
        "      <th>5</th>\n",
        "      <th>6</th>\n",
        "      <th>7</th>\n",
        "      <th>8</th>\n",
        "      <th>9</th>\n",
        "      <th>...</th>\n",
        "      <th>16</th>\n",
        "      <th>17</th>\n",
        "      <th>18</th>\n",
        "      <th>19</th>\n",
        "      <th>20</th>\n",
        "      <th>21</th>\n",
        "      <th>22</th>\n",
        "      <th>23</th>\n",
        "      <th>24</th>\n",
        "      <th>25</th>\n",
        "    </tr>\n",
        "  </thead>\n",
        "  <tbody>\n",
        "    <tr>\n",
        "      <th>0</th>\n",
        "      <td> a</td>\n",
        "      <td> b</td>\n",
        "      <td> c</td>\n",
        "      <td> d</td>\n",
        "      <td> e</td>\n",
        "      <td> f</td>\n",
        "      <td> g</td>\n",
        "      <td> h</td>\n",
        "      <td> i</td>\n",
        "      <td> j</td>\n",
        "      <td>...</td>\n",
        "      <td>  q</td>\n",
        "      <td>  r</td>\n",
        "      <td>  s</td>\n",
        "      <td>  t</td>\n",
        "      <td>  u</td>\n",
        "      <td>  v</td>\n",
        "      <td>  w</td>\n",
        "      <td>  x</td>\n",
        "      <td>  y</td>\n",
        "      <td>  z</td>\n",
        "    </tr>\n",
        "    <tr>\n",
        "      <th>1</th>\n",
        "      <td> A</td>\n",
        "      <td> B</td>\n",
        "      <td> C</td>\n",
        "      <td> D</td>\n",
        "      <td> E</td>\n",
        "      <td> F</td>\n",
        "      <td> G</td>\n",
        "      <td> H</td>\n",
        "      <td> I</td>\n",
        "      <td> J</td>\n",
        "      <td>...</td>\n",
        "      <td>  Q</td>\n",
        "      <td>  R</td>\n",
        "      <td>  S</td>\n",
        "      <td>  T</td>\n",
        "      <td>  U</td>\n",
        "      <td>  V</td>\n",
        "      <td>  W</td>\n",
        "      <td>  X</td>\n",
        "      <td>  Y</td>\n",
        "      <td>  Z</td>\n",
        "    </tr>\n",
        "    <tr>\n",
        "      <th>2</th>\n",
        "      <td> 0</td>\n",
        "      <td> 1</td>\n",
        "      <td> 2</td>\n",
        "      <td> 3</td>\n",
        "      <td> 4</td>\n",
        "      <td> 5</td>\n",
        "      <td> 6</td>\n",
        "      <td> 7</td>\n",
        "      <td> 8</td>\n",
        "      <td> 9</td>\n",
        "      <td>...</td>\n",
        "      <td> 16</td>\n",
        "      <td> 17</td>\n",
        "      <td> 18</td>\n",
        "      <td> 19</td>\n",
        "      <td> 20</td>\n",
        "      <td> 21</td>\n",
        "      <td> 22</td>\n",
        "      <td> 23</td>\n",
        "      <td> 24</td>\n",
        "      <td> 25</td>\n",
        "    </tr>\n",
        "  </tbody>\n",
        "</table>\n",
        "<p>3 rows \u00d7 26 columns</p>\n",
        "</div>"
       ],
       "metadata": {},
       "output_type": "pyout",
       "prompt_number": 14,
       "text": [
        "  0  1  2  3  4  5  6  7  8  9  ...  16  17  18  19  20  21  22  23  24  25\n",
        "0  a  b  c  d  e  f  g  h  i  j ...   q   r   s   t   u   v   w   x   y   z\n",
        "1  A  B  C  D  E  F  G  H  I  J ...   Q   R   S   T   U   V   W   X   Y   Z\n",
        "2  0  1  2  3  4  5  6  7  8  9 ...  16  17  18  19  20  21  22  23  24  25\n",
        "\n",
        "[3 rows x 26 columns]"
       ]
      }
     ],
     "prompt_number": 14
    },
    {
     "cell_type": "markdown",
     "metadata": {},
     "source": [
      "Just like a numpy array we can transpose it."
     ]
    },
    {
     "cell_type": "code",
     "collapsed": false,
     "input": [
      "letters = letters.transpose()\n",
      "letters.head()"
     ],
     "language": "python",
     "metadata": {},
     "outputs": [
      {
       "html": [
        "<div style=\"max-height:1000px;max-width:1500px;overflow:auto;\">\n",
        "<table border=\"1\" class=\"dataframe\">\n",
        "  <thead>\n",
        "    <tr style=\"text-align: right;\">\n",
        "      <th></th>\n",
        "      <th>0</th>\n",
        "      <th>1</th>\n",
        "      <th>2</th>\n",
        "    </tr>\n",
        "  </thead>\n",
        "  <tbody>\n",
        "    <tr>\n",
        "      <th>0</th>\n",
        "      <td> a</td>\n",
        "      <td> A</td>\n",
        "      <td> 0</td>\n",
        "    </tr>\n",
        "    <tr>\n",
        "      <th>1</th>\n",
        "      <td> b</td>\n",
        "      <td> B</td>\n",
        "      <td> 1</td>\n",
        "    </tr>\n",
        "    <tr>\n",
        "      <th>2</th>\n",
        "      <td> c</td>\n",
        "      <td> C</td>\n",
        "      <td> 2</td>\n",
        "    </tr>\n",
        "    <tr>\n",
        "      <th>3</th>\n",
        "      <td> d</td>\n",
        "      <td> D</td>\n",
        "      <td> 3</td>\n",
        "    </tr>\n",
        "    <tr>\n",
        "      <th>4</th>\n",
        "      <td> e</td>\n",
        "      <td> E</td>\n",
        "      <td> 4</td>\n",
        "    </tr>\n",
        "  </tbody>\n",
        "</table>\n",
        "</div>"
       ],
       "metadata": {},
       "output_type": "pyout",
       "prompt_number": 15,
       "text": [
        "   0  1  2\n",
        "0  a  A  0\n",
        "1  b  B  1\n",
        "2  c  C  2\n",
        "3  d  D  3\n",
        "4  e  E  4"
       ]
      }
     ],
     "prompt_number": 15
    },
    {
     "cell_type": "code",
     "collapsed": false,
     "input": [
      "letters.columns"
     ],
     "language": "python",
     "metadata": {},
     "outputs": [
      {
       "metadata": {},
       "output_type": "pyout",
       "prompt_number": 16,
       "text": [
        "Int64Index([0, 1, 2], dtype='int64')"
       ]
      }
     ],
     "prompt_number": 16
    },
    {
     "cell_type": "code",
     "collapsed": false,
     "input": [
      "letters.index"
     ],
     "language": "python",
     "metadata": {},
     "outputs": [
      {
       "metadata": {},
       "output_type": "pyout",
       "prompt_number": 17,
       "text": [
        "Int64Index([0, 1, 2, 3, 4, 5, 6, 7, 8, 9, 10, 11, 12, 13, 14, 15, 16, 17, 18, 19, 20, 21, 22, 23, 24, 25], dtype='int64')"
       ]
      }
     ],
     "prompt_number": 17
    },
    {
     "cell_type": "markdown",
     "metadata": {},
     "source": [
      "But now that we have columns as well as an index, we can rename the columns to better describe and query the data."
     ]
    },
    {
     "cell_type": "code",
     "collapsed": false,
     "input": [
      "letters.columns = ['lowercase','uppercase','number']"
     ],
     "language": "python",
     "metadata": {},
     "outputs": [],
     "prompt_number": 18
    },
    {
     "cell_type": "code",
     "collapsed": false,
     "input": [
      "letters.lowercase"
     ],
     "language": "python",
     "metadata": {},
     "outputs": [
      {
       "metadata": {},
       "output_type": "pyout",
       "prompt_number": 19,
       "text": [
        "0     a\n",
        "1     b\n",
        "2     c\n",
        "3     d\n",
        "4     e\n",
        "5     f\n",
        "6     g\n",
        "7     h\n",
        "8     i\n",
        "9     j\n",
        "10    k\n",
        "11    l\n",
        "12    m\n",
        "13    n\n",
        "14    o\n",
        "15    p\n",
        "16    q\n",
        "17    r\n",
        "18    s\n",
        "19    t\n",
        "20    u\n",
        "21    v\n",
        "22    w\n",
        "23    x\n",
        "24    y\n",
        "25    z\n",
        "Name: lowercase, dtype: object"
       ]
      }
     ],
     "prompt_number": 19
    },
    {
     "cell_type": "code",
     "collapsed": false,
     "input": [
      "letters['lowercase']"
     ],
     "language": "python",
     "metadata": {},
     "outputs": [
      {
       "metadata": {},
       "output_type": "pyout",
       "prompt_number": 20,
       "text": [
        "0     a\n",
        "1     b\n",
        "2     c\n",
        "3     d\n",
        "4     e\n",
        "5     f\n",
        "6     g\n",
        "7     h\n",
        "8     i\n",
        "9     j\n",
        "10    k\n",
        "11    l\n",
        "12    m\n",
        "13    n\n",
        "14    o\n",
        "15    p\n",
        "16    q\n",
        "17    r\n",
        "18    s\n",
        "19    t\n",
        "20    u\n",
        "21    v\n",
        "22    w\n",
        "23    x\n",
        "24    y\n",
        "25    z\n",
        "Name: lowercase, dtype: object"
       ]
      }
     ],
     "prompt_number": 20
    },
    {
     "cell_type": "markdown",
     "metadata": {},
     "source": [
      "We can even set up a date range to associate each letter with a date. Now obviously this isn\u2019t too helpful for the alphabet, but this allows you to do some amazing things once you are analyzing real data."
     ]
    },
    {
     "cell_type": "code",
     "collapsed": false,
     "input": [
      "letters.index = pd.date_range('9/1/2012',periods=26)"
     ],
     "language": "python",
     "metadata": {},
     "outputs": [],
     "prompt_number": 21
    },
    {
     "cell_type": "code",
     "collapsed": false,
     "input": [
      "letters"
     ],
     "language": "python",
     "metadata": {},
     "outputs": [
      {
       "html": [
        "<div style=\"max-height:1000px;max-width:1500px;overflow:auto;\">\n",
        "<table border=\"1\" class=\"dataframe\">\n",
        "  <thead>\n",
        "    <tr style=\"text-align: right;\">\n",
        "      <th></th>\n",
        "      <th>lowercase</th>\n",
        "      <th>uppercase</th>\n",
        "      <th>number</th>\n",
        "    </tr>\n",
        "  </thead>\n",
        "  <tbody>\n",
        "    <tr>\n",
        "      <th>2012-09-01</th>\n",
        "      <td> a</td>\n",
        "      <td> A</td>\n",
        "      <td>  0</td>\n",
        "    </tr>\n",
        "    <tr>\n",
        "      <th>2012-09-02</th>\n",
        "      <td> b</td>\n",
        "      <td> B</td>\n",
        "      <td>  1</td>\n",
        "    </tr>\n",
        "    <tr>\n",
        "      <th>2012-09-03</th>\n",
        "      <td> c</td>\n",
        "      <td> C</td>\n",
        "      <td>  2</td>\n",
        "    </tr>\n",
        "    <tr>\n",
        "      <th>2012-09-04</th>\n",
        "      <td> d</td>\n",
        "      <td> D</td>\n",
        "      <td>  3</td>\n",
        "    </tr>\n",
        "    <tr>\n",
        "      <th>2012-09-05</th>\n",
        "      <td> e</td>\n",
        "      <td> E</td>\n",
        "      <td>  4</td>\n",
        "    </tr>\n",
        "    <tr>\n",
        "      <th>2012-09-06</th>\n",
        "      <td> f</td>\n",
        "      <td> F</td>\n",
        "      <td>  5</td>\n",
        "    </tr>\n",
        "    <tr>\n",
        "      <th>2012-09-07</th>\n",
        "      <td> g</td>\n",
        "      <td> G</td>\n",
        "      <td>  6</td>\n",
        "    </tr>\n",
        "    <tr>\n",
        "      <th>2012-09-08</th>\n",
        "      <td> h</td>\n",
        "      <td> H</td>\n",
        "      <td>  7</td>\n",
        "    </tr>\n",
        "    <tr>\n",
        "      <th>2012-09-09</th>\n",
        "      <td> i</td>\n",
        "      <td> I</td>\n",
        "      <td>  8</td>\n",
        "    </tr>\n",
        "    <tr>\n",
        "      <th>2012-09-10</th>\n",
        "      <td> j</td>\n",
        "      <td> J</td>\n",
        "      <td>  9</td>\n",
        "    </tr>\n",
        "    <tr>\n",
        "      <th>2012-09-11</th>\n",
        "      <td> k</td>\n",
        "      <td> K</td>\n",
        "      <td> 10</td>\n",
        "    </tr>\n",
        "    <tr>\n",
        "      <th>2012-09-12</th>\n",
        "      <td> l</td>\n",
        "      <td> L</td>\n",
        "      <td> 11</td>\n",
        "    </tr>\n",
        "    <tr>\n",
        "      <th>2012-09-13</th>\n",
        "      <td> m</td>\n",
        "      <td> M</td>\n",
        "      <td> 12</td>\n",
        "    </tr>\n",
        "    <tr>\n",
        "      <th>2012-09-14</th>\n",
        "      <td> n</td>\n",
        "      <td> N</td>\n",
        "      <td> 13</td>\n",
        "    </tr>\n",
        "    <tr>\n",
        "      <th>2012-09-15</th>\n",
        "      <td> o</td>\n",
        "      <td> O</td>\n",
        "      <td> 14</td>\n",
        "    </tr>\n",
        "    <tr>\n",
        "      <th>2012-09-16</th>\n",
        "      <td> p</td>\n",
        "      <td> P</td>\n",
        "      <td> 15</td>\n",
        "    </tr>\n",
        "    <tr>\n",
        "      <th>2012-09-17</th>\n",
        "      <td> q</td>\n",
        "      <td> Q</td>\n",
        "      <td> 16</td>\n",
        "    </tr>\n",
        "    <tr>\n",
        "      <th>2012-09-18</th>\n",
        "      <td> r</td>\n",
        "      <td> R</td>\n",
        "      <td> 17</td>\n",
        "    </tr>\n",
        "    <tr>\n",
        "      <th>2012-09-19</th>\n",
        "      <td> s</td>\n",
        "      <td> S</td>\n",
        "      <td> 18</td>\n",
        "    </tr>\n",
        "    <tr>\n",
        "      <th>2012-09-20</th>\n",
        "      <td> t</td>\n",
        "      <td> T</td>\n",
        "      <td> 19</td>\n",
        "    </tr>\n",
        "    <tr>\n",
        "      <th>2012-09-21</th>\n",
        "      <td> u</td>\n",
        "      <td> U</td>\n",
        "      <td> 20</td>\n",
        "    </tr>\n",
        "    <tr>\n",
        "      <th>2012-09-22</th>\n",
        "      <td> v</td>\n",
        "      <td> V</td>\n",
        "      <td> 21</td>\n",
        "    </tr>\n",
        "    <tr>\n",
        "      <th>2012-09-23</th>\n",
        "      <td> w</td>\n",
        "      <td> W</td>\n",
        "      <td> 22</td>\n",
        "    </tr>\n",
        "    <tr>\n",
        "      <th>2012-09-24</th>\n",
        "      <td> x</td>\n",
        "      <td> X</td>\n",
        "      <td> 23</td>\n",
        "    </tr>\n",
        "    <tr>\n",
        "      <th>2012-09-25</th>\n",
        "      <td> y</td>\n",
        "      <td> Y</td>\n",
        "      <td> 24</td>\n",
        "    </tr>\n",
        "    <tr>\n",
        "      <th>2012-09-26</th>\n",
        "      <td> z</td>\n",
        "      <td> Z</td>\n",
        "      <td> 25</td>\n",
        "    </tr>\n",
        "  </tbody>\n",
        "</table>\n",
        "</div>"
       ],
       "metadata": {},
       "output_type": "pyout",
       "prompt_number": 22,
       "text": [
        "           lowercase uppercase number\n",
        "2012-09-01         a         A      0\n",
        "2012-09-02         b         B      1\n",
        "2012-09-03         c         C      2\n",
        "2012-09-04         d         D      3\n",
        "2012-09-05         e         E      4\n",
        "2012-09-06         f         F      5\n",
        "2012-09-07         g         G      6\n",
        "2012-09-08         h         H      7\n",
        "2012-09-09         i         I      8\n",
        "2012-09-10         j         J      9\n",
        "2012-09-11         k         K     10\n",
        "2012-09-12         l         L     11\n",
        "2012-09-13         m         M     12\n",
        "2012-09-14         n         N     13\n",
        "2012-09-15         o         O     14\n",
        "2012-09-16         p         P     15\n",
        "2012-09-17         q         Q     16\n",
        "2012-09-18         r         R     17\n",
        "2012-09-19         s         S     18\n",
        "2012-09-20         t         T     19\n",
        "2012-09-21         u         U     20\n",
        "2012-09-22         v         V     21\n",
        "2012-09-23         w         W     22\n",
        "2012-09-24         x         X     23\n",
        "2012-09-25         y         Y     24\n",
        "2012-09-26         z         Z     25"
       ]
      }
     ],
     "prompt_number": 22
    },
    {
     "cell_type": "code",
     "collapsed": false,
     "input": [
      "letters['9-10-2012':'9-15-2012']"
     ],
     "language": "python",
     "metadata": {},
     "outputs": [
      {
       "html": [
        "<div style=\"max-height:1000px;max-width:1500px;overflow:auto;\">\n",
        "<table border=\"1\" class=\"dataframe\">\n",
        "  <thead>\n",
        "    <tr style=\"text-align: right;\">\n",
        "      <th></th>\n",
        "      <th>lowercase</th>\n",
        "      <th>uppercase</th>\n",
        "      <th>number</th>\n",
        "    </tr>\n",
        "  </thead>\n",
        "  <tbody>\n",
        "    <tr>\n",
        "      <th>2012-09-10</th>\n",
        "      <td> j</td>\n",
        "      <td> J</td>\n",
        "      <td>  9</td>\n",
        "    </tr>\n",
        "    <tr>\n",
        "      <th>2012-09-11</th>\n",
        "      <td> k</td>\n",
        "      <td> K</td>\n",
        "      <td> 10</td>\n",
        "    </tr>\n",
        "    <tr>\n",
        "      <th>2012-09-12</th>\n",
        "      <td> l</td>\n",
        "      <td> L</td>\n",
        "      <td> 11</td>\n",
        "    </tr>\n",
        "    <tr>\n",
        "      <th>2012-09-13</th>\n",
        "      <td> m</td>\n",
        "      <td> M</td>\n",
        "      <td> 12</td>\n",
        "    </tr>\n",
        "    <tr>\n",
        "      <th>2012-09-14</th>\n",
        "      <td> n</td>\n",
        "      <td> N</td>\n",
        "      <td> 13</td>\n",
        "    </tr>\n",
        "    <tr>\n",
        "      <th>2012-09-15</th>\n",
        "      <td> o</td>\n",
        "      <td> O</td>\n",
        "      <td> 14</td>\n",
        "    </tr>\n",
        "  </tbody>\n",
        "</table>\n",
        "</div>"
       ],
       "metadata": {},
       "output_type": "pyout",
       "prompt_number": 23,
       "text": [
        "           lowercase uppercase number\n",
        "2012-09-10         j         J      9\n",
        "2012-09-11         k         K     10\n",
        "2012-09-12         l         L     11\n",
        "2012-09-13         m         M     12\n",
        "2012-09-14         n         N     13\n",
        "2012-09-15         o         O     14"
       ]
      }
     ],
     "prompt_number": 23
    },
    {
     "cell_type": "markdown",
     "metadata": {},
     "source": [
      "Now if you don\u2019t have any experience with pandas this is going to seem like a lot! Don\u2019t worry we\u2019re going to cover everything in the coming videos, I just wanted to give you an introduction to the amazingly expressive power of pandas and python. We\u2019ve seen the building blocks with the Index, the Series, and the DataFrame.\n",
      "\n",
      "Now let\u2019s dive deeper into each one."
     ]
    }
   ],
   "metadata": {}
  }
 ]
}