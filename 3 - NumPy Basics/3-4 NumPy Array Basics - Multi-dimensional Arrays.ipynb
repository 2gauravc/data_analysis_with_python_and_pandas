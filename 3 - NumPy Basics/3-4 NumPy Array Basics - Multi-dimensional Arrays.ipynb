{
 "metadata": {
  "name": "",
  "signature": "sha256:65ec03a605c770b54516b1c5828cb2ef9eef111144e5b4f44a5b87a190f40b22"
 },
 "nbformat": 3,
 "nbformat_minor": 0,
 "worksheets": [
  {
   "cells": [
    {
     "cell_type": "heading",
     "level": 1,
     "metadata": {},
     "source": [
      "NumPy Array Basics - Multi-dimensional Arrays"
     ]
    },
    {
     "cell_type": "code",
     "collapsed": false,
     "input": [
      "import sys\n",
      "import numpy as np\n",
      "print sys.version"
     ],
     "language": "python",
     "metadata": {},
     "outputs": [
      {
       "output_type": "stream",
       "stream": "stdout",
       "text": [
        "2.7.6 (default, Sep  9 2014, 15:04:36) \n",
        "[GCC 4.2.1 Compatible Apple LLVM 6.0 (clang-600.0.39)]\n"
       ]
      }
     ],
     "prompt_number": 1
    },
    {
     "cell_type": "code",
     "collapsed": false,
     "input": [
      "npa = np.arange(25)"
     ],
     "language": "python",
     "metadata": {},
     "outputs": [],
     "prompt_number": 16
    },
    {
     "cell_type": "code",
     "collapsed": false,
     "input": [
      "npa"
     ],
     "language": "python",
     "metadata": {},
     "outputs": [
      {
       "metadata": {},
       "output_type": "pyout",
       "prompt_number": 17,
       "text": [
        "array([ 0,  1,  2,  3,  4,  5,  6,  7,  8,  9, 10, 11, 12, 13, 14, 15, 16,\n",
        "       17, 18, 19, 20, 21, 22, 23, 24])"
       ]
      }
     ],
     "prompt_number": 17
    },
    {
     "cell_type": "markdown",
     "metadata": {},
     "source": [
      "We learned in the last video how to generate arrays, now let\u2019s generate multidimensional arrays. These are, as you might guess, arrays with multiple dimensions."
     ]
    },
    {
     "cell_type": "markdown",
     "metadata": {},
     "source": [
      "We can create these by reshaping arrays. One of the simplest ways is to just reshape an array with the reshape command. That gives us an x by x array."
     ]
    },
    {
     "cell_type": "code",
     "collapsed": false,
     "input": [
      "npa.reshape((5,5))"
     ],
     "language": "python",
     "metadata": {},
     "outputs": [
      {
       "metadata": {},
       "output_type": "pyout",
       "prompt_number": 18,
       "text": [
        "array([[ 0,  1,  2,  3,  4],\n",
        "       [ 5,  6,  7,  8,  9],\n",
        "       [10, 11, 12, 13, 14],\n",
        "       [15, 16, 17, 18, 19],\n",
        "       [20, 21, 22, 23, 24]])"
       ]
      }
     ],
     "prompt_number": 18
    },
    {
     "cell_type": "markdown",
     "metadata": {},
     "source": [
      "We can also use the zeros commands."
     ]
    },
    {
     "cell_type": "code",
     "collapsed": false,
     "input": [
      "npa2 = np.zeros((5,5))"
     ],
     "language": "python",
     "metadata": {},
     "outputs": [],
     "prompt_number": 20
    },
    {
     "cell_type": "code",
     "collapsed": false,
     "input": [
      "npa2"
     ],
     "language": "python",
     "metadata": {},
     "outputs": [
      {
       "metadata": {},
       "output_type": "pyout",
       "prompt_number": 21,
       "text": [
        "array([[ 0.,  0.,  0.,  0.,  0.],\n",
        "       [ 0.,  0.,  0.,  0.,  0.],\n",
        "       [ 0.,  0.,  0.,  0.,  0.],\n",
        "       [ 0.,  0.,  0.,  0.,  0.],\n",
        "       [ 0.,  0.,  0.,  0.,  0.]])"
       ]
      }
     ],
     "prompt_number": 21
    },
    {
     "cell_type": "markdown",
     "metadata": {},
     "source": [
      "To get the size of the array we can use the size method."
     ]
    },
    {
     "cell_type": "code",
     "collapsed": false,
     "input": [
      "npa2.size"
     ],
     "language": "python",
     "metadata": {},
     "outputs": [
      {
       "metadata": {},
       "output_type": "pyout",
       "prompt_number": 22,
       "text": [
        "25"
       ]
      }
     ],
     "prompt_number": 22
    },
    {
     "cell_type": "markdown",
     "metadata": {},
     "source": [
      "To get the shape of the array we can use the shape method."
     ]
    },
    {
     "cell_type": "code",
     "collapsed": false,
     "input": [
      "npa2.shape"
     ],
     "language": "python",
     "metadata": {},
     "outputs": [
      {
       "metadata": {},
       "output_type": "pyout",
       "prompt_number": 23,
       "text": [
        "(5, 5)"
       ]
      }
     ],
     "prompt_number": 23
    },
    {
     "cell_type": "markdown",
     "metadata": {},
     "source": [
      "to get the number of dimension we use the ndim method."
     ]
    },
    {
     "cell_type": "code",
     "collapsed": false,
     "input": [
      "npa2.ndim"
     ],
     "language": "python",
     "metadata": {},
     "outputs": [
      {
       "metadata": {},
       "output_type": "pyout",
       "prompt_number": 24,
       "text": [
        "2"
       ]
      }
     ],
     "prompt_number": 24
    },
    {
     "cell_type": "markdown",
     "metadata": {},
     "source": [
      "We can create as many dimensions as we need to, here's 3 dimensions."
     ]
    },
    {
     "cell_type": "code",
     "collapsed": false,
     "input": [
      "np.arange(8).reshape(2,2,2)"
     ],
     "language": "python",
     "metadata": {},
     "outputs": [
      {
       "ename": "NameError",
       "evalue": "name 'np' is not defined",
       "output_type": "pyerr",
       "traceback": [
        "\u001b[0;31m---------------------------------------------------------------------------\u001b[0m\n\u001b[0;31mNameError\u001b[0m                                 Traceback (most recent call last)",
        "\u001b[0;32m<ipython-input-1-6e921bd0c075>\u001b[0m in \u001b[0;36m<module>\u001b[0;34m()\u001b[0m\n\u001b[0;32m----> 1\u001b[0;31m \u001b[0mnp\u001b[0m\u001b[0;34m.\u001b[0m\u001b[0marange\u001b[0m\u001b[0;34m(\u001b[0m\u001b[0;36m8\u001b[0m\u001b[0;34m)\u001b[0m\u001b[0;34m.\u001b[0m\u001b[0mreshape\u001b[0m\u001b[0;34m(\u001b[0m\u001b[0;36m2\u001b[0m\u001b[0;34m,\u001b[0m\u001b[0;36m2\u001b[0m\u001b[0;34m,\u001b[0m\u001b[0;36m2\u001b[0m\u001b[0;34m)\u001b[0m\u001b[0;34m\u001b[0m\u001b[0m\n\u001b[0m",
        "\u001b[0;31mNameError\u001b[0m: name 'np' is not defined"
       ]
      }
     ],
     "prompt_number": 1
    },
    {
     "cell_type": "markdown",
     "metadata": {},
     "source": [
      "Here's 4 dimensions"
     ]
    },
    {
     "cell_type": "code",
     "collapsed": false,
     "input": [
      "np.zeros((4,4,4,4))"
     ],
     "language": "python",
     "metadata": {},
     "outputs": [
      {
       "metadata": {},
       "output_type": "pyout",
       "prompt_number": 25,
       "text": [
        "array([[[[ 0.,  0.,  0.,  0.],\n",
        "         [ 0.,  0.,  0.,  0.],\n",
        "         [ 0.,  0.,  0.,  0.],\n",
        "         [ 0.,  0.,  0.,  0.]],\n",
        "\n",
        "        [[ 0.,  0.,  0.,  0.],\n",
        "         [ 0.,  0.,  0.,  0.],\n",
        "         [ 0.,  0.,  0.,  0.],\n",
        "         [ 0.,  0.,  0.,  0.]],\n",
        "\n",
        "        [[ 0.,  0.,  0.,  0.],\n",
        "         [ 0.,  0.,  0.,  0.],\n",
        "         [ 0.,  0.,  0.,  0.],\n",
        "         [ 0.,  0.,  0.,  0.]],\n",
        "\n",
        "        [[ 0.,  0.,  0.,  0.],\n",
        "         [ 0.,  0.,  0.,  0.],\n",
        "         [ 0.,  0.,  0.,  0.],\n",
        "         [ 0.,  0.,  0.,  0.]]],\n",
        "\n",
        "\n",
        "       [[[ 0.,  0.,  0.,  0.],\n",
        "         [ 0.,  0.,  0.,  0.],\n",
        "         [ 0.,  0.,  0.,  0.],\n",
        "         [ 0.,  0.,  0.,  0.]],\n",
        "\n",
        "        [[ 0.,  0.,  0.,  0.],\n",
        "         [ 0.,  0.,  0.,  0.],\n",
        "         [ 0.,  0.,  0.,  0.],\n",
        "         [ 0.,  0.,  0.,  0.]],\n",
        "\n",
        "        [[ 0.,  0.,  0.,  0.],\n",
        "         [ 0.,  0.,  0.,  0.],\n",
        "         [ 0.,  0.,  0.,  0.],\n",
        "         [ 0.,  0.,  0.,  0.]],\n",
        "\n",
        "        [[ 0.,  0.,  0.,  0.],\n",
        "         [ 0.,  0.,  0.,  0.],\n",
        "         [ 0.,  0.,  0.,  0.],\n",
        "         [ 0.,  0.,  0.,  0.]]],\n",
        "\n",
        "\n",
        "       [[[ 0.,  0.,  0.,  0.],\n",
        "         [ 0.,  0.,  0.,  0.],\n",
        "         [ 0.,  0.,  0.,  0.],\n",
        "         [ 0.,  0.,  0.,  0.]],\n",
        "\n",
        "        [[ 0.,  0.,  0.,  0.],\n",
        "         [ 0.,  0.,  0.,  0.],\n",
        "         [ 0.,  0.,  0.,  0.],\n",
        "         [ 0.,  0.,  0.,  0.]],\n",
        "\n",
        "        [[ 0.,  0.,  0.,  0.],\n",
        "         [ 0.,  0.,  0.,  0.],\n",
        "         [ 0.,  0.,  0.,  0.],\n",
        "         [ 0.,  0.,  0.,  0.]],\n",
        "\n",
        "        [[ 0.,  0.,  0.,  0.],\n",
        "         [ 0.,  0.,  0.,  0.],\n",
        "         [ 0.,  0.,  0.,  0.],\n",
        "         [ 0.,  0.,  0.,  0.]]],\n",
        "\n",
        "\n",
        "       [[[ 0.,  0.,  0.,  0.],\n",
        "         [ 0.,  0.,  0.,  0.],\n",
        "         [ 0.,  0.,  0.,  0.],\n",
        "         [ 0.,  0.,  0.,  0.]],\n",
        "\n",
        "        [[ 0.,  0.,  0.,  0.],\n",
        "         [ 0.,  0.,  0.,  0.],\n",
        "         [ 0.,  0.,  0.,  0.],\n",
        "         [ 0.,  0.,  0.,  0.]],\n",
        "\n",
        "        [[ 0.,  0.,  0.,  0.],\n",
        "         [ 0.,  0.,  0.,  0.],\n",
        "         [ 0.,  0.,  0.,  0.],\n",
        "         [ 0.,  0.,  0.,  0.]],\n",
        "\n",
        "        [[ 0.,  0.,  0.,  0.],\n",
        "         [ 0.,  0.,  0.,  0.],\n",
        "         [ 0.,  0.,  0.,  0.],\n",
        "         [ 0.,  0.,  0.,  0.]]]])"
       ]
      }
     ],
     "prompt_number": 25
    },
    {
     "cell_type": "code",
     "collapsed": false,
     "input": [
      "np.arange(16).reshape(2,2,2,2)"
     ],
     "language": "python",
     "metadata": {},
     "outputs": [
      {
       "metadata": {},
       "output_type": "pyout",
       "prompt_number": 28,
       "text": [
        "array([[[[ 0,  1],\n",
        "         [ 2,  3]],\n",
        "\n",
        "        [[ 4,  5],\n",
        "         [ 6,  7]]],\n",
        "\n",
        "\n",
        "       [[[ 8,  9],\n",
        "         [10, 11]],\n",
        "\n",
        "        [[12, 13],\n",
        "         [14, 15]]]])"
       ]
      }
     ],
     "prompt_number": 28
    },
    {
     "cell_type": "markdown",
     "metadata": {},
     "source": [
      "For the most part we\u2019ll be working with 2 dimensions."
     ]
    },
    {
     "cell_type": "code",
     "collapsed": false,
     "input": [
      "npa2"
     ],
     "language": "python",
     "metadata": {},
     "outputs": [
      {
       "ename": "NameError",
       "evalue": "name 'npa2' is not defined",
       "output_type": "pyerr",
       "traceback": [
        "\u001b[0;31m---------------------------------------------------------------------------\u001b[0m\n\u001b[0;31mNameError\u001b[0m                                 Traceback (most recent call last)",
        "\u001b[0;32m<ipython-input-2-7e2d781cdfb0>\u001b[0m in \u001b[0;36m<module>\u001b[0;34m()\u001b[0m\n\u001b[0;32m----> 1\u001b[0;31m \u001b[0mnpa2\u001b[0m\u001b[0;34m\u001b[0m\u001b[0m\n\u001b[0m",
        "\u001b[0;31mNameError\u001b[0m: name 'npa2' is not defined"
       ]
      }
     ],
     "prompt_number": 2
    },
    {
     "cell_type": "code",
     "collapsed": false,
     "input": [
      "npa"
     ],
     "language": "python",
     "metadata": {},
     "outputs": [
      {
       "metadata": {},
       "output_type": "pyout",
       "prompt_number": 32,
       "text": [
        "array([ 0,  1,  2,  3,  4,  5,  6,  7,  8,  9, 10, 11, 12, 13, 14, 15, 16,\n",
        "       17, 18, 19, 20, 21, 22, 23, 24])"
       ]
      }
     ],
     "prompt_number": 32
    },
    {
     "cell_type": "markdown",
     "metadata": {},
     "source": [
      "Now we can really see the power of vectorization, let\u2019s create two random 2 dimensional arrays.\n",
      "\n",
      "Now I\u2019m going to set the random seed. This basically makes your random number generation reproducible."
     ]
    },
    {
     "cell_type": "code",
     "collapsed": false,
     "input": [
      "np.random.seed(10)"
     ],
     "language": "python",
     "metadata": {},
     "outputs": [],
     "prompt_number": 40
    },
    {
     "cell_type": "markdown",
     "metadata": {},
     "source": [
      "let\u2019s try some random number generation and then we can filter our original array by a new matrix."
     ]
    },
    {
     "cell_type": "code",
     "collapsed": false,
     "input": [
      "npa2 = np.random.random_integers(0,10,25).reshape(5,5)\n",
      "npa2"
     ],
     "language": "python",
     "metadata": {},
     "outputs": [
      {
       "metadata": {},
       "output_type": "pyout",
       "prompt_number": 41,
       "text": [
        "array([[ 9,  4,  0,  1,  9],\n",
        "       [ 0,  1, 10,  8,  9],\n",
        "       [ 0, 10,  8,  6,  4],\n",
        "       [ 3,  0,  4,  6,  8],\n",
        "       [10,  1,  8,  4,  1]])"
       ]
      }
     ],
     "prompt_number": 41
    },
    {
     "cell_type": "code",
     "collapsed": false,
     "input": [
      "npa3 = np.random.random_integers(0,10,25).reshape(5,5)\n",
      "npa3"
     ],
     "language": "python",
     "metadata": {},
     "outputs": [
      {
       "metadata": {},
       "output_type": "pyout",
       "prompt_number": 42,
       "text": [
        "array([[ 3,  6,  5,  3,  9],\n",
        "       [ 6,  9,  1,  9,  4],\n",
        "       [ 2,  6,  7,  8, 10],\n",
        "       [ 8,  9,  2,  0,  6],\n",
        "       [ 7,  8,  1,  7,  1]])"
       ]
      }
     ],
     "prompt_number": 42
    },
    {
     "cell_type": "markdown",
     "metadata": {},
     "source": [
      "\n",
      "# In[209]:\n",
      "\n",
      "a2\n",
      "\n",
      "\n",
      "# In[210]:\n",
      "\n",
      "temp > a2\n",
      "\n",
      "\n",
      "# In[211]:\n",
      "\n",
      "sum(temp > a2)\n",
      "\n",
      "\n",
      "# In[212]:\n",
      "\n",
      "sum(temp > a2).sum()\n",
      "\n",
      "\n",
      "# In[213]:\n",
      "\n",
      "temp.min()\n",
      "\n",
      "\n",
      "# In[214]:\n",
      "\n",
      "temp.min(axis=1)\n",
      "\n",
      "\n",
      "# In[215]:\n",
      "\n",
      "temp.max(axis=0)\n",
      "\n",
      "\n",
      "# In[216]:\n",
      "\n",
      "temp\n",
      "\n",
      "\n",
      "# In[217]:\n",
      "\n",
      "temp.T\n",
      "\n",
      "\n",
      "# In[218]:\n",
      "\n",
      "temp.transpose()\n",
      "\n",
      "\n",
      "# In[219]:\n",
      "\n",
      "temp.T == temp.transpose()\n",
      "\n",
      "\n",
      "# In[220]:\n",
      "\n",
      "temp.T * temp\n",
      "\n",
      "\n",
      "# In[221]:\n",
      "\n",
      "f = temp.flatten()\n",
      "f\n",
      "\n",
      "\n",
      "# In[222]:\n",
      "\n",
      "f[0] = 25\n",
      "f\n",
      "\n",
      "\n",
      "# In[223]:\n",
      "\n",
      "temp\n",
      "\n",
      "\n",
      "# In[224]:\n",
      "\n",
      "r = temp.ravel()\n",
      "r\n",
      "\n",
      "\n",
      "# In[225]:\n",
      "\n",
      "r[0] = 22\n",
      "r\n",
      "\n",
      "\n",
      "# In[226]:\n",
      "\n",
      "temp\n",
      "\n",
      "\n",
      "# In[227]:\n",
      "\n",
      "temp2 = np.arange(1,5).reshape(2,2)\n",
      "\n",
      "\n",
      "# In[228]:\n",
      "\n",
      "temp2.cumsum()\n",
      "\n",
      "\n",
      "# In[229]:\n",
      "\n",
      "temp2\n",
      "\n",
      "\n",
      "# In[230]:\n",
      "\n",
      "temp2.cumprod()\n",
      "\n",
      "\n",
      "# In[230]:"
     ]
    },
    {
     "cell_type": "markdown",
     "metadata": {},
     "source": [
      ". Now even better, let\u2019s see how many are in each column. We can do that with sum or we could get the total by summing that array.\n",
      "\n",
      "We can also get the minimums and maximums like we got with single dimensional arrays or for specific dimensions.\n",
      "\n",
      "There are plenty of other functions that numpy as. we can transpose with .T property or transpose method. we can multiply matrix  by matrix.\n",
      "\n",
      "We can flatten these arrays in two different ways.\n",
      "1. we can flatten it, which returns a new array that we can change\n",
      "or we can ravel it which ends up modifying the original array.\n",
      "\n",
      "Now when we change a value in that array it changes the value in the original array too.\n",
      "\n",
      "Now we can use some other helpful functions like cumsum and comprod to get the cumulative products and sums. This works for any dimensional array.\n",
      "\n",
      "That really covers a lot of the basic functions you\u2019re going to need. If there\u2019s anything you have questions about feel free to ask along the side and I can create some appendix videos to help you along.\n",
      "\n",
      "In the next video we\u2019ll cover slicing and combining arrays as well as querying them."
     ]
    }
   ],
   "metadata": {}
  }
 ]
}