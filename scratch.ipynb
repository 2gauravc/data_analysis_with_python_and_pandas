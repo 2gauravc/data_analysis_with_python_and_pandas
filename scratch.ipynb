{
 "metadata": {
  "name": "",
  "signature": "sha256:8500b4488604c8fe9c4da7383854f21751ebbc1001feffdeb13f61e84b42d38c"
 },
 "nbformat": 3,
 "nbformat_minor": 0,
 "worksheets": [
  {
   "cells": [
    {
     "cell_type": "code",
     "collapsed": false,
     "input": [
      "%matplotlib inline\n",
      "import csv\n",
      "import sys\n",
      "import datetime\n",
      "import pandas as pd\n",
      "pd.options.display.mpl_style = 'default'"
     ],
     "language": "python",
     "metadata": {},
     "outputs": [],
     "prompt_number": 3
    },
    {
     "cell_type": "code",
     "collapsed": false,
     "input": [
      "print sys.version"
     ],
     "language": "python",
     "metadata": {},
     "outputs": [
      {
       "output_type": "stream",
       "stream": "stdout",
       "text": [
        "2.7.6 (default, Sep  9 2014, 15:04:36) \n",
        "[GCC 4.2.1 Compatible Apple LLVM 6.0 (clang-600.0.39)]\n"
       ]
      }
     ],
     "prompt_number": 2
    },
    {
     "cell_type": "code",
     "collapsed": false,
     "input": [
      "data = []\n",
      "with open('running.csv', 'rU') as f:\n",
      "    reader = csv.reader(f,dialect='excel',)\n",
      "    for row in reader:\n",
      "        data.append(row)"
     ],
     "language": "python",
     "metadata": {},
     "outputs": [],
     "prompt_number": 3
    },
    {
     "cell_type": "code",
     "collapsed": false,
     "input": [
      "headers = data.pop(0)\n",
      "print headers"
     ],
     "language": "python",
     "metadata": {},
     "outputs": [
      {
       "output_type": "stream",
       "stream": "stdout",
       "text": [
        "['', 'Date', 'Miles', 'Time', '']\n"
       ]
      }
     ],
     "prompt_number": 4
    },
    {
     "cell_type": "code",
     "collapsed": false,
     "input": [
      "dates = [row[headers.index('Date')] for row in data]\n",
      "times = [row[headers.index(\"Time\")] for row in data]\n",
      "distances = [row[headers.index('Miles')] for row in data]"
     ],
     "language": "python",
     "metadata": {},
     "outputs": [],
     "prompt_number": 5
    },
    {
     "cell_type": "code",
     "collapsed": false,
     "input": [
      "times = [x.split(\":\") for x in times]"
     ],
     "language": "python",
     "metadata": {},
     "outputs": [],
     "prompt_number": 6
    },
    {
     "cell_type": "code",
     "collapsed": false,
     "input": [
      "print times"
     ],
     "language": "python",
     "metadata": {},
     "outputs": [
      {
       "output_type": "stream",
       "stream": "stdout",
       "text": [
        "[[''], [''], [''], [''], [''], [''], [''], ['0', '28', '37'], ['0', '13', '07'], ['0', '10', '35'], ['0', '17', '25'], ['0', '06', '16'], ['0', '06', '16'], [''], [''], [''], [''], [''], [''], ['0', '09', '33'], ['0', '09', '24'], ['0', '09', '05'], [''], [''], ['0', '08', '55'], [''], ['0', '10', '30'], ['0', '25', '00'], ['0', '43', '27'], [''], [''], ['0', '23', '50'], ['0', '23', '11'], ['0', '08', '57'], ['0', '23', '46'], ['0', '22', '48'], ['0', '11', '06'], ['0', '09', '45'], ['0', '30', '22'], ['0', '11', '18'], ['0', '11', '18'], ['0', '21', '55'], ['0', '40', '00'], [''], ['0', '33', '00'], ['0', '22', '37'], ['0', '09', '05'], ['0', '09', '40'], [''], [''], ['0', '08', '36'], [''], [''], ['0', '08', '43'], ['0', '39', '26'], ['0', '22', '12'], ['0', '49', '05'], [''], [''], ['0', '22', '36'], ['0', '09', '00'], ['0', '11', '33'], [''], ['0', '22', '35'], [''], [''], ['0', '25', '00'], ['0', '09', '15'], ['0', '43', '36'], ['0', '18', '59'], ['0', '58', '43'], ['1', '39', '00'], ['0', '26', '15'], ['2', '15', '00'], ['0', '28', '00'], ['0', '51', '50']]\n"
       ]
      }
     ],
     "prompt_number": 7
    },
    {
     "cell_type": "code",
     "collapsed": false,
     "input": [
      "def x1(incvar):\n",
      "    incvar = str(incvar).split(\":\")\n",
      "    if len(incvar) > 1:\n",
      "        return ':'.join([\"00\"] + incvar[:2])\n",
      "    else:\n",
      "        return ''\n",
      "print [x1(x) for x in times]"
     ],
     "language": "python",
     "metadata": {},
     "outputs": [
      {
       "output_type": "stream",
       "stream": "stdout",
       "text": [
        "['', '', '', '', '', '', '', '', '', '', '', '', '', '', '', '', '', '', '', '', '', '', '', '', '', '', '', '', '', '', '', '', '', '', '', '', '', '', '', '', '', '', '', '', '', '', '', '', '', '', '', '', '', '', '', '', '', '', '', '', '', '', '', '', '', '', '', '', '', '', '', '', '', '', '', '']\n"
       ]
      }
     ],
     "prompt_number": 8
    },
    {
     "cell_type": "code",
     "collapsed": false,
     "input": [
      "distances[:10]"
     ],
     "language": "python",
     "metadata": {},
     "outputs": [
      {
       "metadata": {},
       "output_type": "pyout",
       "prompt_number": 9,
       "text": [
        "['1.7', '1.4', '2.1', '2.38', '2.3', '3.4', '2.5', '3.36', '1.67', '1.42']"
       ]
      }
     ],
     "prompt_number": 9
    },
    {
     "cell_type": "code",
     "collapsed": false,
     "input": [
      "import pandas as pd\n",
      "d = pd.read_csv('running.csv', parse_dates='Date')"
     ],
     "language": "python",
     "metadata": {},
     "outputs": [],
     "prompt_number": 4
    },
    {
     "cell_type": "code",
     "collapsed": false,
     "input": [
      "d = d.set_index('Date')"
     ],
     "language": "python",
     "metadata": {},
     "outputs": [],
     "prompt_number": 5
    },
    {
     "cell_type": "code",
     "collapsed": false,
     "input": [
      "pd.rolling_mean(d['Miles'], 5).plot()"
     ],
     "language": "python",
     "metadata": {},
     "outputs": [
      {
       "metadata": {},
       "output_type": "pyout",
       "prompt_number": 6,
       "text": [
        "<matplotlib.axes.AxesSubplot at 0x10ccac510>"
       ]
      },
      {
       "metadata": {},
       "output_type": "display_data",
       "png": "[encoded data removed]",
       "text": [
        "<matplotlib.figure.Figure at 0x1097b4ad0>"
       ]
      }
     ],
     "prompt_number": 6
    },
    {
     "cell_type": "code",
     "collapsed": false,
     "input": [
      "d['Miles'].plot()"
     ],
     "language": "python",
     "metadata": {},
     "outputs": [
      {
       "metadata": {},
       "output_type": "pyout",
       "prompt_number": 7,
       "text": [
        "<matplotlib.axes.AxesSubplot at 0x10cce8250>"
       ]
      },
      {
       "metadata": {},
       "output_type": "display_data",
       "png": "[encoded data removed]",
       "text": [
        "<matplotlib.figure.Figure at 0x10ccf7690>"
       ]
      }
     ],
     "prompt_number": 7
    },
    {
     "cell_type": "code",
     "collapsed": false,
     "input": [
      "from datetime import datetime\n",
      "df = pd.DataFrame(index=pd.date_range(datetime(2014,8,1), datetime(2014,12,31)))"
     ],
     "language": "python",
     "metadata": {},
     "outputs": [],
     "prompt_number": 8
    },
    {
     "cell_type": "code",
     "collapsed": false,
     "input": [
      "df = df.join(d)"
     ],
     "language": "python",
     "metadata": {},
     "outputs": [],
     "prompt_number": 9
    },
    {
     "cell_type": "code",
     "collapsed": false,
     "input": [
      "df = df.fillna(0)\n",
      "df"
     ],
     "language": "python",
     "metadata": {},
     "outputs": [
      {
       "html": [
        "<div style=\"max-height:1000px;max-width:1500px;overflow:auto;\">\n",
        "<table border=\"1\" class=\"dataframe\">\n",
        "  <thead>\n",
        "    <tr style=\"text-align: right;\">\n",
        "      <th></th>\n",
        "      <th>Miles</th>\n",
        "      <th>Time</th>\n",
        "    </tr>\n",
        "  </thead>\n",
        "  <tbody>\n",
        "    <tr>\n",
        "      <th>2014-08-01</th>\n",
        "      <td>  0.00</td>\n",
        "      <td>       0</td>\n",
        "    </tr>\n",
        "    <tr>\n",
        "      <th>2014-08-02</th>\n",
        "      <td>  1.70</td>\n",
        "      <td>       0</td>\n",
        "    </tr>\n",
        "    <tr>\n",
        "      <th>2014-08-03</th>\n",
        "      <td>  1.40</td>\n",
        "      <td>       0</td>\n",
        "    </tr>\n",
        "    <tr>\n",
        "      <th>2014-08-04</th>\n",
        "      <td>  2.10</td>\n",
        "      <td>       0</td>\n",
        "    </tr>\n",
        "    <tr>\n",
        "      <th>2014-08-05</th>\n",
        "      <td>  0.00</td>\n",
        "      <td>       0</td>\n",
        "    </tr>\n",
        "    <tr>\n",
        "      <th>2014-08-06</th>\n",
        "      <td>  2.38</td>\n",
        "      <td>       0</td>\n",
        "    </tr>\n",
        "    <tr>\n",
        "      <th>2014-08-07</th>\n",
        "      <td>  2.30</td>\n",
        "      <td>       0</td>\n",
        "    </tr>\n",
        "    <tr>\n",
        "      <th>2014-08-08</th>\n",
        "      <td>  3.40</td>\n",
        "      <td>       0</td>\n",
        "    </tr>\n",
        "    <tr>\n",
        "      <th>2014-08-09</th>\n",
        "      <td>  2.50</td>\n",
        "      <td>       0</td>\n",
        "    </tr>\n",
        "    <tr>\n",
        "      <th>2014-08-10</th>\n",
        "      <td>  3.36</td>\n",
        "      <td> 0:28:37</td>\n",
        "    </tr>\n",
        "    <tr>\n",
        "      <th>2014-08-11</th>\n",
        "      <td>  1.67</td>\n",
        "      <td> 0:13:07</td>\n",
        "    </tr>\n",
        "    <tr>\n",
        "      <th>2014-08-12</th>\n",
        "      <td>  1.42</td>\n",
        "      <td> 0:10:35</td>\n",
        "    </tr>\n",
        "    <tr>\n",
        "      <th>2014-08-13</th>\n",
        "      <td>  2.35</td>\n",
        "      <td> 0:17:25</td>\n",
        "    </tr>\n",
        "    <tr>\n",
        "      <th>2014-08-14</th>\n",
        "      <td>  0.90</td>\n",
        "      <td> 0:06:16</td>\n",
        "    </tr>\n",
        "    <tr>\n",
        "      <th>2014-08-14</th>\n",
        "      <td>  0.90</td>\n",
        "      <td> 0:06:16</td>\n",
        "    </tr>\n",
        "    <tr>\n",
        "      <th>2014-08-15</th>\n",
        "      <td>  1.78</td>\n",
        "      <td>       0</td>\n",
        "    </tr>\n",
        "    <tr>\n",
        "      <th>2014-08-16</th>\n",
        "      <td>  0.65</td>\n",
        "      <td>       0</td>\n",
        "    </tr>\n",
        "    <tr>\n",
        "      <th>2014-08-17</th>\n",
        "      <td>  1.34</td>\n",
        "      <td>       0</td>\n",
        "    </tr>\n",
        "    <tr>\n",
        "      <th>2014-08-18</th>\n",
        "      <td>  0.65</td>\n",
        "      <td>       0</td>\n",
        "    </tr>\n",
        "    <tr>\n",
        "      <th>2014-08-19</th>\n",
        "      <td>  1.37</td>\n",
        "      <td>       0</td>\n",
        "    </tr>\n",
        "    <tr>\n",
        "      <th>2014-08-19</th>\n",
        "      <td>  1.37</td>\n",
        "      <td>       0</td>\n",
        "    </tr>\n",
        "    <tr>\n",
        "      <th>2014-08-20</th>\n",
        "      <td>  1.37</td>\n",
        "      <td> 0:09:33</td>\n",
        "    </tr>\n",
        "    <tr>\n",
        "      <th>2014-08-21</th>\n",
        "      <td>  1.37</td>\n",
        "      <td> 0:09:24</td>\n",
        "    </tr>\n",
        "    <tr>\n",
        "      <th>2014-08-22</th>\n",
        "      <td>  1.37</td>\n",
        "      <td> 0:09:05</td>\n",
        "    </tr>\n",
        "    <tr>\n",
        "      <th>2014-08-23</th>\n",
        "      <td>  1.34</td>\n",
        "      <td>       0</td>\n",
        "    </tr>\n",
        "    <tr>\n",
        "      <th>2014-08-24</th>\n",
        "      <td>  3.00</td>\n",
        "      <td>       0</td>\n",
        "    </tr>\n",
        "    <tr>\n",
        "      <th>2014-08-25</th>\n",
        "      <td>  1.37</td>\n",
        "      <td> 0:08:55</td>\n",
        "    </tr>\n",
        "    <tr>\n",
        "      <th>2014-08-25</th>\n",
        "      <td>  1.34</td>\n",
        "      <td>       0</td>\n",
        "    </tr>\n",
        "    <tr>\n",
        "      <th>2014-08-26</th>\n",
        "      <td>  1.37</td>\n",
        "      <td> 0:10:30</td>\n",
        "    </tr>\n",
        "    <tr>\n",
        "      <th>2014-08-27</th>\n",
        "      <td>  2.50</td>\n",
        "      <td> 0:25:00</td>\n",
        "    </tr>\n",
        "    <tr>\n",
        "      <th>...</th>\n",
        "      <td>...</td>\n",
        "      <td>...</td>\n",
        "    </tr>\n",
        "    <tr>\n",
        "      <th>2014-12-03</th>\n",
        "      <td>  0.00</td>\n",
        "      <td>       0</td>\n",
        "    </tr>\n",
        "    <tr>\n",
        "      <th>2014-12-04</th>\n",
        "      <td>  0.00</td>\n",
        "      <td>       0</td>\n",
        "    </tr>\n",
        "    <tr>\n",
        "      <th>2014-12-05</th>\n",
        "      <td>  0.00</td>\n",
        "      <td>       0</td>\n",
        "    </tr>\n",
        "    <tr>\n",
        "      <th>2014-12-06</th>\n",
        "      <td>  0.00</td>\n",
        "      <td>       0</td>\n",
        "    </tr>\n",
        "    <tr>\n",
        "      <th>2014-12-07</th>\n",
        "      <td>  0.00</td>\n",
        "      <td>       0</td>\n",
        "    </tr>\n",
        "    <tr>\n",
        "      <th>2014-12-08</th>\n",
        "      <td>  0.00</td>\n",
        "      <td>       0</td>\n",
        "    </tr>\n",
        "    <tr>\n",
        "      <th>2014-12-09</th>\n",
        "      <td>  2.93</td>\n",
        "      <td> 0:25:00</td>\n",
        "    </tr>\n",
        "    <tr>\n",
        "      <th>2014-12-10</th>\n",
        "      <td>  0.00</td>\n",
        "      <td>       0</td>\n",
        "    </tr>\n",
        "    <tr>\n",
        "      <th>2014-12-11</th>\n",
        "      <td>  0.00</td>\n",
        "      <td>       0</td>\n",
        "    </tr>\n",
        "    <tr>\n",
        "      <th>2014-12-12</th>\n",
        "      <td>  1.37</td>\n",
        "      <td> 0:09:15</td>\n",
        "    </tr>\n",
        "    <tr>\n",
        "      <th>2014-12-13</th>\n",
        "      <td>  5.30</td>\n",
        "      <td> 0:43:36</td>\n",
        "    </tr>\n",
        "    <tr>\n",
        "      <th>2014-12-13</th>\n",
        "      <td>  2.21</td>\n",
        "      <td> 0:18:59</td>\n",
        "    </tr>\n",
        "    <tr>\n",
        "      <th>2014-12-14</th>\n",
        "      <td>  0.00</td>\n",
        "      <td>       0</td>\n",
        "    </tr>\n",
        "    <tr>\n",
        "      <th>2014-12-15</th>\n",
        "      <td>  6.50</td>\n",
        "      <td> 0:58:43</td>\n",
        "    </tr>\n",
        "    <tr>\n",
        "      <th>2014-12-16</th>\n",
        "      <td>  0.00</td>\n",
        "      <td>       0</td>\n",
        "    </tr>\n",
        "    <tr>\n",
        "      <th>2014-12-17</th>\n",
        "      <td> 12.00</td>\n",
        "      <td> 1:39:00</td>\n",
        "    </tr>\n",
        "    <tr>\n",
        "      <th>2014-12-18</th>\n",
        "      <td>  0.00</td>\n",
        "      <td>       0</td>\n",
        "    </tr>\n",
        "    <tr>\n",
        "      <th>2014-12-19</th>\n",
        "      <td>  3.10</td>\n",
        "      <td> 0:26:15</td>\n",
        "    </tr>\n",
        "    <tr>\n",
        "      <th>2014-12-20</th>\n",
        "      <td> 14.80</td>\n",
        "      <td> 2:15:00</td>\n",
        "    </tr>\n",
        "    <tr>\n",
        "      <th>2014-12-21</th>\n",
        "      <td>  0.00</td>\n",
        "      <td>       0</td>\n",
        "    </tr>\n",
        "    <tr>\n",
        "      <th>2014-12-22</th>\n",
        "      <td>  3.10</td>\n",
        "      <td> 0:28:00</td>\n",
        "    </tr>\n",
        "    <tr>\n",
        "      <th>2014-12-23</th>\n",
        "      <td>  5.63</td>\n",
        "      <td> 0:51:50</td>\n",
        "    </tr>\n",
        "    <tr>\n",
        "      <th>2014-12-24</th>\n",
        "      <td>  0.00</td>\n",
        "      <td>       0</td>\n",
        "    </tr>\n",
        "    <tr>\n",
        "      <th>2014-12-25</th>\n",
        "      <td>  0.00</td>\n",
        "      <td>       0</td>\n",
        "    </tr>\n",
        "    <tr>\n",
        "      <th>2014-12-26</th>\n",
        "      <td>  0.00</td>\n",
        "      <td>       0</td>\n",
        "    </tr>\n",
        "    <tr>\n",
        "      <th>2014-12-27</th>\n",
        "      <td>  0.00</td>\n",
        "      <td>       0</td>\n",
        "    </tr>\n",
        "    <tr>\n",
        "      <th>2014-12-28</th>\n",
        "      <td>  0.00</td>\n",
        "      <td>       0</td>\n",
        "    </tr>\n",
        "    <tr>\n",
        "      <th>2014-12-29</th>\n",
        "      <td>  0.00</td>\n",
        "      <td>       0</td>\n",
        "    </tr>\n",
        "    <tr>\n",
        "      <th>2014-12-30</th>\n",
        "      <td>  0.00</td>\n",
        "      <td>       0</td>\n",
        "    </tr>\n",
        "    <tr>\n",
        "      <th>2014-12-31</th>\n",
        "      <td>  0.00</td>\n",
        "      <td>       0</td>\n",
        "    </tr>\n",
        "  </tbody>\n",
        "</table>\n",
        "<p>166 rows \u00d7 2 columns</p>\n",
        "</div>"
       ],
       "metadata": {},
       "output_type": "pyout",
       "prompt_number": 10,
       "text": [
        "            Miles     Time\n",
        "2014-08-01   0.00        0\n",
        "2014-08-02   1.70        0\n",
        "2014-08-03   1.40        0\n",
        "2014-08-04   2.10        0\n",
        "2014-08-05   0.00        0\n",
        "2014-08-06   2.38        0\n",
        "2014-08-07   2.30        0\n",
        "2014-08-08   3.40        0\n",
        "2014-08-09   2.50        0\n",
        "2014-08-10   3.36  0:28:37\n",
        "2014-08-11   1.67  0:13:07\n",
        "2014-08-12   1.42  0:10:35\n",
        "2014-08-13   2.35  0:17:25\n",
        "2014-08-14   0.90  0:06:16\n",
        "2014-08-14   0.90  0:06:16\n",
        "2014-08-15   1.78        0\n",
        "2014-08-16   0.65        0\n",
        "2014-08-17   1.34        0\n",
        "2014-08-18   0.65        0\n",
        "2014-08-19   1.37        0\n",
        "2014-08-19   1.37        0\n",
        "2014-08-20   1.37  0:09:33\n",
        "2014-08-21   1.37  0:09:24\n",
        "2014-08-22   1.37  0:09:05\n",
        "2014-08-23   1.34        0\n",
        "2014-08-24   3.00        0\n",
        "2014-08-25   1.37  0:08:55\n",
        "2014-08-25   1.34        0\n",
        "2014-08-26   1.37  0:10:30\n",
        "2014-08-27   2.50  0:25:00\n",
        "...           ...      ...\n",
        "2014-12-03   0.00        0\n",
        "2014-12-04   0.00        0\n",
        "2014-12-05   0.00        0\n",
        "2014-12-06   0.00        0\n",
        "2014-12-07   0.00        0\n",
        "2014-12-08   0.00        0\n",
        "2014-12-09   2.93  0:25:00\n",
        "2014-12-10   0.00        0\n",
        "2014-12-11   0.00        0\n",
        "2014-12-12   1.37  0:09:15\n",
        "2014-12-13   5.30  0:43:36\n",
        "2014-12-13   2.21  0:18:59\n",
        "2014-12-14   0.00        0\n",
        "2014-12-15   6.50  0:58:43\n",
        "2014-12-16   0.00        0\n",
        "2014-12-17  12.00  1:39:00\n",
        "2014-12-18   0.00        0\n",
        "2014-12-19   3.10  0:26:15\n",
        "2014-12-20  14.80  2:15:00\n",
        "2014-12-21   0.00        0\n",
        "2014-12-22   3.10  0:28:00\n",
        "2014-12-23   5.63  0:51:50\n",
        "2014-12-24   0.00        0\n",
        "2014-12-25   0.00        0\n",
        "2014-12-26   0.00        0\n",
        "2014-12-27   0.00        0\n",
        "2014-12-28   0.00        0\n",
        "2014-12-29   0.00        0\n",
        "2014-12-30   0.00        0\n",
        "2014-12-31   0.00        0\n",
        "\n",
        "[166 rows x 2 columns]"
       ]
      }
     ],
     "prompt_number": 10
    },
    {
     "cell_type": "code",
     "collapsed": false,
     "input": [
      "pd.rolling_mean(df['Miles'], 7).plot()"
     ],
     "language": "python",
     "metadata": {},
     "outputs": [
      {
       "metadata": {},
       "output_type": "pyout",
       "prompt_number": 11,
       "text": [
        "<matplotlib.axes.AxesSubplot at 0x10cd0d090>"
       ]
      },
      {
       "metadata": {},
       "output_type": "display_data",
       "png": "[encoded data removed]",
       "text": [
        "<matplotlib.figure.Figure at 0x10c9d05d0>"
       ]
      }
     ],
     "prompt_number": 11
    },
    {
     "cell_type": "code",
     "collapsed": false,
     "input": [
      "pd.rolling_sum(df['Miles'], 7).plot()"
     ],
     "language": "python",
     "metadata": {},
     "outputs": [
      {
       "metadata": {},
       "output_type": "pyout",
       "prompt_number": 12,
       "text": [
        "<matplotlib.axes.AxesSubplot at 0x10cdaa150>"
       ]
      },
      {
       "metadata": {},
       "output_type": "display_data",
       "png": "[encoded data removed]",
       "text": [
        "<matplotlib.figure.Figure at 0x10cdd1490>"
       ]
      }
     ],
     "prompt_number": 12
    },
    {
     "cell_type": "code",
     "collapsed": false,
     "input": [
      "raw_time_fmt = df.Time[0]\n",
      "def parse_time(raw_time):\n",
      "    if raw_time is np.nan:\n",
      "        return np.nan\n",
      "    hours, minutes, seconds = str(raw_time).split(':')\n",
      "    return time(int(hours), int(minutes), int(seconds))\n",
      "print parse_time(raw_time_fmt)"
     ],
     "language": "python",
     "metadata": {},
     "outputs": []
    }
   ],
   "metadata": {}
  }
 ]
}