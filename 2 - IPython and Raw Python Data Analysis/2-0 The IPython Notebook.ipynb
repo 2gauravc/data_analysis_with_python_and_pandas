{
 "metadata": {
  "name": "",
  "signature": "sha256:aaad738e8faf7d175570404892e974d9892a7af9538ef40535b3708188e7c875"
 },
 "nbformat": 3,
 "nbformat_minor": 0,
 "worksheets": [
  {
   "cells": [
    {
     "cell_type": "heading",
     "level": 1,
     "metadata": {},
     "source": [
      "2-0 IPython and the IPython Notebook"
     ]
    },
    {
     "cell_type": "markdown",
     "metadata": {},
     "source": [
      "Alright now that I\u2019ve introduced the course, I wanted to introduce you the tools that we'll be using.\n",
      "\n",
      "Throughout this course I'm going to be using an IPython notebook. The IPython notebook is a part of the anaconda distribution that I recommended before."
     ]
    },
    {
     "cell_type": "markdown",
     "metadata": {},
     "source": [
      "IPython is an interactive computing interface for python that adds some extremely helpful tools to python. Let\u2019s go ahead and get started with that.\n",
      "\n",
      "We start the IPython Notebook from the command like by just typing in `ipython notebook`. It has a lower level interface, IPython, but I won't be covering that in this course."
     ]
    },
    {
     "cell_type": "markdown",
     "metadata": {},
     "source": [
      "The IPython Notebook adds lots of helper commands, adds tab completion, general developer happiness tools to python."
     ]
    },
    {
     "cell_type": "markdown",
     "metadata": {},
     "source": [
      "An IPython notebook is made up of cells. There are various kinds of cells that I can set up from this top menu. Simply there are code cells that can be executed and text cells that can be styled.\n",
      "\n",
      "Let's start with a simple command in this first cell."
     ]
    },
    {
     "cell_type": "code",
     "collapsed": false,
     "input": [
      "print \"Hello IPython\""
     ],
     "language": "python",
     "metadata": {},
     "outputs": [
      {
       "output_type": "stream",
       "stream": "stdout",
       "text": [
        "Hello IPython\n"
       ]
      }
     ],
     "prompt_number": 1
    },
    {
     "cell_type": "markdown",
     "metadata": {},
     "source": [
      "You'll see that we can see the output of any command that we execute in thse cells. Now cells all share the same global environment. So if we set a variable in one, we can print it out in another."
     ]
    },
    {
     "cell_type": "code",
     "collapsed": false,
     "input": [
      "x = 5"
     ],
     "language": "python",
     "metadata": {},
     "outputs": [],
     "prompt_number": 2
    },
    {
     "cell_type": "code",
     "collapsed": false,
     "input": [
      "print x"
     ],
     "language": "python",
     "metadata": {},
     "outputs": [
      {
       "output_type": "stream",
       "stream": "stdout",
       "text": [
        "5\n"
       ]
      }
     ],
     "prompt_number": 3
    },
    {
     "cell_type": "markdown",
     "metadata": {},
     "source": [
      "We can also define functions in cells and access those in others. (use tab completion)"
     ]
    },
    {
     "cell_type": "code",
     "collapsed": false,
     "input": [
      "def square(input_var):\n",
      "    return input_var * input_var"
     ],
     "language": "python",
     "metadata": {},
     "outputs": [],
     "prompt_number": 4
    },
    {
     "cell_type": "markdown",
     "metadata": {},
     "source": [
      "you also saw right there that I can use tab completion to complete those variables. That's another handy thing about the IPython notebook. Tab completion."
     ]
    },
    {
     "cell_type": "markdown",
     "metadata": {},
     "source": [
      "We can also get access to certain shell commands like \"ls\" to list everything in the current directory."
     ]
    },
    {
     "cell_type": "code",
     "collapsed": false,
     "input": [
      "square(x)"
     ],
     "language": "python",
     "metadata": {},
     "outputs": [
      {
       "metadata": {},
       "output_type": "pyout",
       "prompt_number": 5,
       "text": [
        "25"
       ]
      }
     ],
     "prompt_number": 5
    },
    {
     "cell_type": "code",
     "collapsed": false,
     "input": [
      "ls"
     ],
     "language": "python",
     "metadata": {},
     "outputs": [
      {
       "output_type": "stream",
       "stream": "stdout",
       "text": [
        "2-0 The IPython Notebook.ipynb              2-2 Raw Python - Filters.ipynb              2-4 Raw Python - Lambda Functions.ipynb\r\n",
        "2-1 Raw Python - Maps.ipynb                 2-3 Raw Python - List Comprehensions.ipynb\r\n"
       ]
      }
     ],
     "prompt_number": 6
    },
    {
     "cell_type": "markdown",
     "metadata": {},
     "source": [
      "We also get access to some \"magic commands\". These commands are baked into IPython and provide us some really, really helpful ways of writing code without having to google things all the time.\n",
      "\n",
      "For example, quickref"
     ]
    },
    {
     "cell_type": "code",
     "collapsed": false,
     "input": [
      "%quickref"
     ],
     "language": "python",
     "metadata": {},
     "outputs": [],
     "prompt_number": 7
    },
    {
     "cell_type": "markdown",
     "metadata": {},
     "source": [
      "Quickref brings up the quickreference for IPython, we can see all the commands that are made available to us.\n",
      "\n",
      "Some of my favorites are the ? and %timeit\n",
      "\n",
      "Here's a demonstration of the ? helper. Say I've imported a module, let's say datetime and I forgot the order of arguments when creating a new one."
     ]
    },
    {
     "cell_type": "code",
     "collapsed": false,
     "input": [
      "from datetime import datetime"
     ],
     "language": "python",
     "metadata": {},
     "outputs": [],
     "prompt_number": 8
    },
    {
     "cell_type": "code",
     "collapsed": false,
     "input": [
      "?datetime"
     ],
     "language": "python",
     "metadata": {},
     "outputs": [],
     "prompt_number": 9
    },
    {
     "cell_type": "markdown",
     "metadata": {},
     "source": [
      "All I have to do is put a question mark either before or after it and it will bring up the documentation for that specific module or function."
     ]
    },
    {
     "cell_type": "code",
     "collapsed": false,
     "input": [
      "datetime?"
     ],
     "language": "python",
     "metadata": {},
     "outputs": [],
     "prompt_number": 10
    },
    {
     "cell_type": "code",
     "collapsed": false,
     "input": [
      "?square"
     ],
     "language": "python",
     "metadata": {},
     "outputs": [],
     "prompt_number": 11
    },
    {
     "cell_type": "markdown",
     "metadata": {},
     "source": [
      "This is super handy and something you'll be seeing through out this course because I use it a lot when I'm working in IPython notebooks.  Timeit is also useful because it allows for easy profiling."
     ]
    },
    {
     "cell_type": "code",
     "collapsed": false,
     "input": [
      "%timeit square(x)"
     ],
     "language": "python",
     "metadata": {},
     "outputs": [
      {
       "output_type": "stream",
       "stream": "stdout",
       "text": [
        "10000000 loops, best of 3: 175 ns per loop\n"
       ]
      }
     ],
     "prompt_number": 12
    },
    {
     "cell_type": "markdown",
     "metadata": {},
     "source": [
      "Now I will warn you, I\u2019ve used IPython Notebooks and while they are great for rapid prototyping and sharing your scientific code or analysis they're not so great for writing production systems.\n",
      "\n",
      "However the notebook interface allows you to save a .py file so that you may build on your basic prototype into a production system. There's a lot of functionality built in to the IPython notebook and you could make a whole course on it. Please feel free to ask questions on the message boards and I'll be sure to answer them as quickly as I can.\n",
      "\n",
      "Now that I\u2019ve introduced the basics of this tool we can start diving into the material."
     ]
    },
    {
     "cell_type": "code",
     "collapsed": false,
     "input": [],
     "language": "python",
     "metadata": {},
     "outputs": []
    }
   ],
   "metadata": {}
  }
 ]
}