{
 "metadata": {
  "name": "",
  "signature": "sha256:33c07c9c85387b03b13d0dba1f8b620834b23df0f7eea89805c6b7a6401c6232"
 },
 "nbformat": 3,
 "nbformat_minor": 0,
 "worksheets": [
  {
   "cells": [
    {
     "cell_type": "code",
     "collapsed": false,
     "input": [
      "%matplotlib inline\n",
      "import sys\n",
      "import pandas as pd\n",
      "import numpy as np\n",
      "import matplotlib.pyplot as plt\n",
      "print sys.version\n",
      "print \"Pandas:\", pd.version.version"
     ],
     "language": "python",
     "metadata": {},
     "outputs": [
      {
       "output_type": "stream",
       "stream": "stdout",
       "text": [
        "2.7.6 (default, Sep  9 2014, 15:04:36) \n",
        "[GCC 4.2.1 Compatible Apple LLVM 6.0 (clang-600.0.39)]\n",
        "Pandas: 0.15.0\n"
       ]
      }
     ],
     "prompt_number": 1
    },
    {
     "cell_type": "code",
     "collapsed": false,
     "input": [
      "?pd.read_json"
     ],
     "language": "python",
     "metadata": {},
     "outputs": [],
     "prompt_number": 6
    },
    {
     "cell_type": "markdown",
     "metadata": {},
     "source": [
      "Alright in this section we're going to continue with the running data set but we're going to dive a bit deeper into the Split-Apply-Combine style of data analysis.\n",
      "\n",
      "Many data analysis problems involve the application of a split-apply-combine strategy, where you break up a big problem into manageable pieces, operate on each piece independently and then put all the pieces back together. \n",
      "\n",
      "Hadley Wickhan from Rice University:\n",
      "http://www.jstatsoft.org/v40/i01/paper\n"
     ]
    },
    {
     "cell_type": "markdown",
     "metadata": {},
     "source": [
      "So what we'll do is read in our csv file."
     ]
    },
    {
     "cell_type": "code",
     "collapsed": false,
     "input": [
      "df = pd.read_csv('../data/date_fixed_running_data_with_time.csv', parse_dates=['Date'])"
     ],
     "language": "python",
     "metadata": {},
     "outputs": [],
     "prompt_number": 92
    },
    {
     "cell_type": "code",
     "collapsed": false,
     "input": [
      "df.dtypes"
     ],
     "language": "python",
     "metadata": {},
     "outputs": [
      {
       "metadata": {},
       "output_type": "pyout",
       "prompt_number": 93,
       "text": [
        "Date            datetime64[ns]\n",
        "Miles                  float64\n",
        "Time                    object\n",
        "Seconds                float64\n",
        "Minutes                float64\n",
        "Min_per_mile           float64\n",
        "dtype: object"
       ]
      }
     ],
     "prompt_number": 93
    },
    {
     "cell_type": "code",
     "collapsed": false,
     "input": [
      "df.sort(inplace=True)\n",
      "df.head()"
     ],
     "language": "python",
     "metadata": {},
     "outputs": [
      {
       "html": [
        "<div style=\"max-height:1000px;max-width:1500px;overflow:auto;\">\n",
        "<table border=\"1\" class=\"dataframe\">\n",
        "  <thead>\n",
        "    <tr style=\"text-align: right;\">\n",
        "      <th></th>\n",
        "      <th>Date</th>\n",
        "      <th>Miles</th>\n",
        "      <th>Time</th>\n",
        "      <th>Seconds</th>\n",
        "      <th>Minutes</th>\n",
        "      <th>Min_per_mile</th>\n",
        "    </tr>\n",
        "  </thead>\n",
        "  <tbody>\n",
        "    <tr>\n",
        "      <th>0</th>\n",
        "      <td>2014-08-02</td>\n",
        "      <td> 1.70</td>\n",
        "      <td> NaN</td>\n",
        "      <td>NaN</td>\n",
        "      <td>NaN</td>\n",
        "      <td>NaN</td>\n",
        "    </tr>\n",
        "    <tr>\n",
        "      <th>1</th>\n",
        "      <td>2014-08-03</td>\n",
        "      <td> 1.40</td>\n",
        "      <td> NaN</td>\n",
        "      <td>NaN</td>\n",
        "      <td>NaN</td>\n",
        "      <td>NaN</td>\n",
        "    </tr>\n",
        "    <tr>\n",
        "      <th>2</th>\n",
        "      <td>2014-08-04</td>\n",
        "      <td> 2.10</td>\n",
        "      <td> NaN</td>\n",
        "      <td>NaN</td>\n",
        "      <td>NaN</td>\n",
        "      <td>NaN</td>\n",
        "    </tr>\n",
        "    <tr>\n",
        "      <th>3</th>\n",
        "      <td>2014-08-05</td>\n",
        "      <td> 0.00</td>\n",
        "      <td> NaN</td>\n",
        "      <td>NaN</td>\n",
        "      <td>NaN</td>\n",
        "      <td>NaN</td>\n",
        "    </tr>\n",
        "    <tr>\n",
        "      <th>4</th>\n",
        "      <td>2014-08-06</td>\n",
        "      <td> 2.38</td>\n",
        "      <td> NaN</td>\n",
        "      <td>NaN</td>\n",
        "      <td>NaN</td>\n",
        "      <td>NaN</td>\n",
        "    </tr>\n",
        "  </tbody>\n",
        "</table>\n",
        "</div>"
       ],
       "metadata": {},
       "output_type": "pyout",
       "prompt_number": 94,
       "text": [
        "        Date  Miles Time  Seconds  Minutes  Min_per_mile\n",
        "0 2014-08-02   1.70  NaN      NaN      NaN           NaN\n",
        "1 2014-08-03   1.40  NaN      NaN      NaN           NaN\n",
        "2 2014-08-04   2.10  NaN      NaN      NaN           NaN\n",
        "3 2014-08-05   0.00  NaN      NaN      NaN           NaN\n",
        "4 2014-08-06   2.38  NaN      NaN      NaN           NaN"
       ]
      }
     ],
     "prompt_number": 94
    },
    {
     "cell_type": "markdown",
     "metadata": {},
     "source": [
      "Now let's about getting some summary statistics. I would encourage you to try these on your own. We've learned pretty much everything we need to in order to be able to do these on without guidance and as always if you need clarification just ask on the side.\n",
      "\n",
      "What was the longest run in miles and minutes that I ran?"
     ]
    },
    {
     "cell_type": "code",
     "collapsed": false,
     "input": [
      "df.Minutes.max()"
     ],
     "language": "python",
     "metadata": {},
     "outputs": [
      {
       "metadata": {},
       "output_type": "pyout",
       "prompt_number": 114,
       "text": [
        "260.71666666666664"
       ]
      }
     ],
     "prompt_number": 114
    },
    {
     "cell_type": "code",
     "collapsed": false,
     "input": [
      "df.Miles.max()"
     ],
     "language": "python",
     "metadata": {},
     "outputs": [
      {
       "metadata": {},
       "output_type": "pyout",
       "prompt_number": 115,
       "text": [
        "26.199999999999999"
       ]
      }
     ],
     "prompt_number": 115
    },
    {
     "cell_type": "markdown",
     "metadata": {},
     "source": [
      "What was the most common running distance I did excluding times when I didn't run at all."
     ]
    },
    {
     "cell_type": "code",
     "collapsed": false,
     "input": [
      "df.Miles[df.Miles > 0].value_counts().index[0]"
     ],
     "language": "python",
     "metadata": {},
     "outputs": [
      {
       "metadata": {},
       "output_type": "pyout",
       "prompt_number": 125,
       "text": [
        "1.3700000000000001"
       ]
      }
     ],
     "prompt_number": 125
    },
    {
     "cell_type": "markdown",
     "metadata": {},
     "source": [
      "Plot a graph of the cumulative running distance in this dataset."
     ]
    },
    {
     "cell_type": "code",
     "collapsed": false,
     "input": [
      "df.Miles.cumsum().plot()\n",
      "plt.xlabel(\"Day Number\")\n",
      "plt.ylabel(\"Distance\")"
     ],
     "language": "python",
     "metadata": {},
     "outputs": [
      {
       "metadata": {},
       "output_type": "pyout",
       "prompt_number": 128,
       "text": [
        "<matplotlib.text.Text at 0x109af6150>"
       ]
      },
      {
       "metadata": {},
       "output_type": "display_data",
       "png": "[encoded data removed]",
       "text": [
        "<matplotlib.figure.Figure at 0x109c4e4d0>"
       ]
      }
     ],
     "prompt_number": 128
    },
    {
     "cell_type": "markdown",
     "metadata": {},
     "source": [
      "Plot a graph of the cumulative running hours in this data set."
     ]
    },
    {
     "cell_type": "code",
     "collapsed": false,
     "input": [
      "(df.Minutes.fillna(0).cumsum() / 60).plot()"
     ],
     "language": "python",
     "metadata": {},
     "outputs": [
      {
       "metadata": {},
       "output_type": "pyout",
       "prompt_number": 131,
       "text": [
        "<matplotlib.axes.AxesSubplot at 0x109c6b1d0>"
       ]
      },
      {
       "metadata": {},
       "output_type": "display_data",
       "png": "[encoded data removed]",
       "text": [
        "<matplotlib.figure.Figure at 0x109c79d10>"
       ]
      }
     ],
     "prompt_number": 131
    },
    {
     "cell_type": "markdown",
     "metadata": {},
     "source": [
      "Another interesting question we could ask is what days of the week do I commonly go for runs. Am I faster on certain days or does my speed improve over time relative to the distance that I'm running."
     ]
    },
    {
     "cell_type": "markdown",
     "metadata": {},
     "source": [
      "So let's get our days of the week"
     ]
    },
    {
     "cell_type": "code",
     "collapsed": false,
     "input": [
      "df.Date[0].strftime(\"%A\")"
     ],
     "language": "python",
     "metadata": {},
     "outputs": [
      {
       "metadata": {},
       "output_type": "pyout",
       "prompt_number": 99,
       "text": [
        "'Saturday'"
       ]
      }
     ],
     "prompt_number": 99
    },
    {
     "cell_type": "markdown",
     "metadata": {},
     "source": [
      "We will do that by mapping our date column to a the time format we need"
     ]
    },
    {
     "cell_type": "code",
     "collapsed": false,
     "input": [
      "df.Date.map(lambda x: x.strftime(\"%A\")).head()"
     ],
     "language": "python",
     "metadata": {},
     "outputs": [
      {
       "metadata": {},
       "output_type": "pyout",
       "prompt_number": 101,
       "text": [
        "0     Saturday\n",
        "1       Sunday\n",
        "2       Monday\n",
        "3      Tuesday\n",
        "4    Wednesday\n",
        "Name: Date, dtype: object"
       ]
      }
     ],
     "prompt_number": 101
    },
    {
     "cell_type": "markdown",
     "metadata": {},
     "source": [
      "then we just set that to a new column."
     ]
    },
    {
     "cell_type": "code",
     "collapsed": false,
     "input": [
      "df['Days_of_week'] = df.Date.map(lambda x: x.strftime(\"%A\"))"
     ],
     "language": "python",
     "metadata": {},
     "outputs": [],
     "prompt_number": 102
    },
    {
     "cell_type": "code",
     "collapsed": false,
     "input": [
      "df.head(10)"
     ],
     "language": "python",
     "metadata": {},
     "outputs": [
      {
       "html": [
        "<div style=\"max-height:1000px;max-width:1500px;overflow:auto;\">\n",
        "<table border=\"1\" class=\"dataframe\">\n",
        "  <thead>\n",
        "    <tr style=\"text-align: right;\">\n",
        "      <th></th>\n",
        "      <th>Date</th>\n",
        "      <th>Miles</th>\n",
        "      <th>Time</th>\n",
        "      <th>Seconds</th>\n",
        "      <th>Minutes</th>\n",
        "      <th>Min_per_mile</th>\n",
        "      <th>Days_of_week</th>\n",
        "    </tr>\n",
        "  </thead>\n",
        "  <tbody>\n",
        "    <tr>\n",
        "      <th>0</th>\n",
        "      <td>2014-08-02</td>\n",
        "      <td> 1.70</td>\n",
        "      <td>     NaN</td>\n",
        "      <td>  NaN</td>\n",
        "      <td>       NaN</td>\n",
        "      <td>      NaN</td>\n",
        "      <td>  Saturday</td>\n",
        "    </tr>\n",
        "    <tr>\n",
        "      <th>1</th>\n",
        "      <td>2014-08-03</td>\n",
        "      <td> 1.40</td>\n",
        "      <td>     NaN</td>\n",
        "      <td>  NaN</td>\n",
        "      <td>       NaN</td>\n",
        "      <td>      NaN</td>\n",
        "      <td>    Sunday</td>\n",
        "    </tr>\n",
        "    <tr>\n",
        "      <th>2</th>\n",
        "      <td>2014-08-04</td>\n",
        "      <td> 2.10</td>\n",
        "      <td>     NaN</td>\n",
        "      <td>  NaN</td>\n",
        "      <td>       NaN</td>\n",
        "      <td>      NaN</td>\n",
        "      <td>    Monday</td>\n",
        "    </tr>\n",
        "    <tr>\n",
        "      <th>3</th>\n",
        "      <td>2014-08-05</td>\n",
        "      <td> 0.00</td>\n",
        "      <td>     NaN</td>\n",
        "      <td>  NaN</td>\n",
        "      <td>       NaN</td>\n",
        "      <td>      NaN</td>\n",
        "      <td>   Tuesday</td>\n",
        "    </tr>\n",
        "    <tr>\n",
        "      <th>4</th>\n",
        "      <td>2014-08-06</td>\n",
        "      <td> 2.38</td>\n",
        "      <td>     NaN</td>\n",
        "      <td>  NaN</td>\n",
        "      <td>       NaN</td>\n",
        "      <td>      NaN</td>\n",
        "      <td> Wednesday</td>\n",
        "    </tr>\n",
        "    <tr>\n",
        "      <th>5</th>\n",
        "      <td>2014-08-07</td>\n",
        "      <td> 2.30</td>\n",
        "      <td>     NaN</td>\n",
        "      <td>  NaN</td>\n",
        "      <td>       NaN</td>\n",
        "      <td>      NaN</td>\n",
        "      <td>  Thursday</td>\n",
        "    </tr>\n",
        "    <tr>\n",
        "      <th>6</th>\n",
        "      <td>2014-08-08</td>\n",
        "      <td> 3.40</td>\n",
        "      <td>     NaN</td>\n",
        "      <td>  NaN</td>\n",
        "      <td>       NaN</td>\n",
        "      <td>      NaN</td>\n",
        "      <td>    Friday</td>\n",
        "    </tr>\n",
        "    <tr>\n",
        "      <th>7</th>\n",
        "      <td>2014-08-09</td>\n",
        "      <td> 2.50</td>\n",
        "      <td>     NaN</td>\n",
        "      <td>  NaN</td>\n",
        "      <td>       NaN</td>\n",
        "      <td>      NaN</td>\n",
        "      <td>  Saturday</td>\n",
        "    </tr>\n",
        "    <tr>\n",
        "      <th>8</th>\n",
        "      <td>2014-08-10</td>\n",
        "      <td> 3.36</td>\n",
        "      <td> 0:28:37</td>\n",
        "      <td> 1717</td>\n",
        "      <td> 28.616667</td>\n",
        "      <td> 8.516865</td>\n",
        "      <td>    Sunday</td>\n",
        "    </tr>\n",
        "    <tr>\n",
        "      <th>9</th>\n",
        "      <td>2014-08-11</td>\n",
        "      <td> 1.67</td>\n",
        "      <td> 0:13:07</td>\n",
        "      <td>  787</td>\n",
        "      <td> 13.116667</td>\n",
        "      <td> 7.854291</td>\n",
        "      <td>    Monday</td>\n",
        "    </tr>\n",
        "  </tbody>\n",
        "</table>\n",
        "</div>"
       ],
       "metadata": {},
       "output_type": "pyout",
       "prompt_number": 103,
       "text": [
        "        Date  Miles     Time  Seconds    Minutes  Min_per_mile Days_of_week\n",
        "0 2014-08-02   1.70      NaN      NaN        NaN           NaN     Saturday\n",
        "1 2014-08-03   1.40      NaN      NaN        NaN           NaN       Sunday\n",
        "2 2014-08-04   2.10      NaN      NaN        NaN           NaN       Monday\n",
        "3 2014-08-05   0.00      NaN      NaN        NaN           NaN      Tuesday\n",
        "4 2014-08-06   2.38      NaN      NaN        NaN           NaN    Wednesday\n",
        "5 2014-08-07   2.30      NaN      NaN        NaN           NaN     Thursday\n",
        "6 2014-08-08   3.40      NaN      NaN        NaN           NaN       Friday\n",
        "7 2014-08-09   2.50      NaN      NaN        NaN           NaN     Saturday\n",
        "8 2014-08-10   3.36  0:28:37     1717  28.616667      8.516865       Sunday\n",
        "9 2014-08-11   1.67  0:13:07      787  13.116667      7.854291       Monday"
       ]
      }
     ],
     "prompt_number": 103
    },
    {
     "cell_type": "markdown",
     "metadata": {},
     "source": [
      "and we can make a bar plot of it, but let's see if we can distinguish anything unique about certain days of the week."
     ]
    },
    {
     "cell_type": "code",
     "collapsed": false,
     "input": [
      "df.Days_of_week.value_counts().plot(kind='bar')"
     ],
     "language": "python",
     "metadata": {},
     "outputs": [
      {
       "metadata": {},
       "output_type": "pyout",
       "prompt_number": 111,
       "text": [
        "<matplotlib.axes.AxesSubplot at 0x109a4b610>"
       ]
      },
      {
       "metadata": {},
       "output_type": "display_data",
       "png": "[encoded data removed]",
       "text": [
        "<matplotlib.figure.Figure at 0x109afa690>"
       ]
      }
     ],
     "prompt_number": 111
    },
    {
     "cell_type": "markdown",
     "metadata": {},
     "source": [
      "We will do that by creating groups of data frames"
     ]
    },
    {
     "cell_type": "code",
     "collapsed": false,
     "input": [],
     "language": "python",
     "metadata": {},
     "outputs": []
    }
   ],
   "metadata": {}
  }
 ]
}