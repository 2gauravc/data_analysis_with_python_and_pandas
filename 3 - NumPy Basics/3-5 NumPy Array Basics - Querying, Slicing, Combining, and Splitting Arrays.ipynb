{
 "metadata": {
  "name": "",
  "signature": "sha256:8aff0f55696ef39486bc127c154179149943b3d34da7bf473af0a78af2b6ccfd"
 },
 "nbformat": 3,
 "nbformat_minor": 0,
 "worksheets": [
  {
   "cells": [
    {
     "cell_type": "heading",
     "level": 1,
     "metadata": {},
     "source": [
      "NumPy Array Basics - Querying, Slicing, Combining, and Splitting Arrays"
     ]
    },
    {
     "cell_type": "markdown",
     "metadata": {},
     "source": [
      "In this video we\u2019ll be covering querying, slicing, combining, and splitting arrays. Now this information is really important because it will consistently come up when we\u2019re working in pandas. Overall it\u2019s a pretty simple idea and it\u2019s fairly declarative.\n",
      "\n",
      "First let\u2019s generate some random arrays. We\u2019ll generate some that are 1 dimension, 2 dimensional, and 3 dimensional.\n",
      "\n",
      "Querying 1 dimensional arrays is easy, we just perform the lookup like we would a regular array.\n",
      "\n",
      "Querying 2 dimensional arrays is a bit more interesting, we use commas to separate the axis. \n",
      "\n",
      "Things get even more interesting with 3+ dimensions, obviously it\u2019s a lot to keep track in your head. but We just go dimension by dimension.\n",
      "\n",
      "We\u2019ll get the first dimension, then all the items in the second dimension, then everything beyond the first item in the 3rd dimension.\n",
      "\n",
      "Now that we\u2019ve got some experience querying, let\u2019s go over combining different arrays.\n",
      "\n",
      "Now let\u2019s stack the first two arrays vertically, we\u2019ll do that with vstack. We can do the same with multidimensional arrays.\n",
      "\n",
      "Now you can probably guess what horizontal stacking is. That would be hstack.\n",
      "\n",
      "Of course we aren\u2019t limited to two arrays, we can stack as many as we like.\n",
      "\n",
      "We can also use concatenate to join them together. We can specify the axis to do so.\n",
      "\n",
      "we can stack them dimensionally with dstack. Now we\u2019ve got a 3 dimensional join of these two two dimensional arrays.\n",
      "\n",
      "We can split them back with the dsplit command. This gives us back our original arrays.\n",
      "\n",
      "We can do the same with hsplit and vsplit.\n",
      "\n",
      "At this point we\u2019ve covered a lot of numpy. Now I\u2019m sure you\u2019re thinking this isn\u2019t quite applied but a lot of this functionality will be embedded into pandas. so it\u2019s great to review. With these videos we\u2019ve covered a lot of what you\u2019ll find yourself using in numpy but don\u2019t be afraid to dive into the documentation yourself. There are some things that I haven\u2019t covered like specific matrix types, linear algebra but these are outside the scope of this introduction. If you\u2019ve got any questions please feel free to ask in the discussion."
     ]
    },
    {
     "cell_type": "code",
     "collapsed": false,
     "input": [
      "import sys\n",
      "import numpy as np\n",
      "print sys.version"
     ],
     "language": "python",
     "metadata": {},
     "outputs": [
      {
       "output_type": "stream",
       "stream": "stdout",
       "text": [
        "2.7.6 (default, Sep  9 2014, 15:04:36) \n",
        "[GCC 4.2.1 Compatible Apple LLVM 6.0 (clang-600.0.39)]\n"
       ]
      }
     ],
     "prompt_number": 1
    },
    {
     "cell_type": "code",
     "collapsed": false,
     "input": [
      "np.random.seed(10)"
     ],
     "language": "python",
     "metadata": {},
     "outputs": [],
     "prompt_number": 2
    },
    {
     "cell_type": "code",
     "collapsed": false,
     "input": [
      "ar = np.arange(12)\n",
      "ar"
     ],
     "language": "python",
     "metadata": {},
     "outputs": [
      {
       "metadata": {},
       "output_type": "pyout",
       "prompt_number": 3,
       "text": [
        "array([ 0,  1,  2,  3,  4,  5,  6,  7,  8,  9, 10, 11])"
       ]
      }
     ],
     "prompt_number": 3
    },
    {
     "cell_type": "code",
     "collapsed": false,
     "input": [
      "ar2 = np.random.random_integers(12, size=12)\n",
      "ar2"
     ],
     "language": "python",
     "metadata": {},
     "outputs": [
      {
       "metadata": {},
       "output_type": "pyout",
       "prompt_number": 4,
       "text": [
        "array([10,  5,  1,  2, 12, 10,  1,  2, 11,  9, 10,  1])"
       ]
      }
     ],
     "prompt_number": 4
    },
    {
     "cell_type": "code",
     "collapsed": false,
     "input": [
      "ndim_ar = np.arange(12).reshape(3,4)\n",
      "ndim_ar"
     ],
     "language": "python",
     "metadata": {},
     "outputs": [
      {
       "metadata": {},
       "output_type": "pyout",
       "prompt_number": 5,
       "text": [
        "array([[ 0,  1,  2,  3],\n",
        "       [ 4,  5,  6,  7],\n",
        "       [ 8,  9, 10, 11]])"
       ]
      }
     ],
     "prompt_number": 5
    },
    {
     "cell_type": "code",
     "collapsed": false,
     "input": [
      "ndim_ar2 = np.random.random_integers(12, size=(3,4))\n",
      "ndim_ar2"
     ],
     "language": "python",
     "metadata": {},
     "outputs": [
      {
       "metadata": {},
       "output_type": "pyout",
       "prompt_number": 6,
       "text": [
        "array([[11,  9,  7,  5],\n",
        "       [ 4,  1,  5, 12],\n",
        "       [ 7,  9, 12, 11]])"
       ]
      }
     ],
     "prompt_number": 6
    },
    {
     "cell_type": "code",
     "collapsed": false,
     "input": [
      "ndim_ar3d = np.arange(8).reshape(2,2,2)\n",
      "ndim_ar3d"
     ],
     "language": "python",
     "metadata": {},
     "outputs": [
      {
       "metadata": {},
       "output_type": "pyout",
       "prompt_number": 7,
       "text": [
        "array([[[0, 1],\n",
        "        [2, 3]],\n",
        "\n",
        "       [[4, 5],\n",
        "        [6, 7]]])"
       ]
      }
     ],
     "prompt_number": 7
    },
    {
     "cell_type": "code",
     "collapsed": false,
     "input": [
      "ar[5]"
     ],
     "language": "python",
     "metadata": {},
     "outputs": [
      {
       "metadata": {},
       "output_type": "pyout",
       "prompt_number": 8,
       "text": [
        "5"
       ]
      }
     ],
     "prompt_number": 8
    },
    {
     "cell_type": "code",
     "collapsed": false,
     "input": [
      "ar[5:]"
     ],
     "language": "python",
     "metadata": {},
     "outputs": [
      {
       "metadata": {},
       "output_type": "pyout",
       "prompt_number": 9,
       "text": [
        "array([ 5,  6,  7,  8,  9, 10, 11])"
       ]
      }
     ],
     "prompt_number": 9
    },
    {
     "cell_type": "code",
     "collapsed": false,
     "input": [
      "ar[1:6:2]"
     ],
     "language": "python",
     "metadata": {},
     "outputs": [
      {
       "metadata": {},
       "output_type": "pyout",
       "prompt_number": 10,
       "text": [
        "array([1, 3, 5])"
       ]
      }
     ],
     "prompt_number": 10
    },
    {
     "cell_type": "code",
     "collapsed": false,
     "input": [
      "ar[-1:-6:-2]"
     ],
     "language": "python",
     "metadata": {},
     "outputs": [
      {
       "metadata": {},
       "output_type": "pyout",
       "prompt_number": 11,
       "text": [
        "array([11,  9,  7])"
       ]
      }
     ],
     "prompt_number": 11
    },
    {
     "cell_type": "code",
     "collapsed": false,
     "input": [
      "ndim_ar"
     ],
     "language": "python",
     "metadata": {},
     "outputs": [
      {
       "metadata": {},
       "output_type": "pyout",
       "prompt_number": 12,
       "text": [
        "array([[ 0,  1,  2,  3],\n",
        "       [ 4,  5,  6,  7],\n",
        "       [ 8,  9, 10, 11]])"
       ]
      }
     ],
     "prompt_number": 12
    },
    {
     "cell_type": "code",
     "collapsed": false,
     "input": [
      "ndim_ar[:,1:3]"
     ],
     "language": "python",
     "metadata": {},
     "outputs": [
      {
       "metadata": {},
       "output_type": "pyout",
       "prompt_number": 13,
       "text": [
        "array([[ 1,  2],\n",
        "       [ 5,  6],\n",
        "       [ 9, 10]])"
       ]
      }
     ],
     "prompt_number": 13
    },
    {
     "cell_type": "code",
     "collapsed": false,
     "input": [
      "ndim_ar[1:3,:]"
     ],
     "language": "python",
     "metadata": {},
     "outputs": [
      {
       "metadata": {},
       "output_type": "pyout",
       "prompt_number": 14,
       "text": [
        "array([[ 4,  5,  6,  7],\n",
        "       [ 8,  9, 10, 11]])"
       ]
      }
     ],
     "prompt_number": 14
    },
    {
     "cell_type": "code",
     "collapsed": false,
     "input": [
      "ndim_ar[1:3,1:3]"
     ],
     "language": "python",
     "metadata": {},
     "outputs": [
      {
       "metadata": {},
       "output_type": "pyout",
       "prompt_number": 15,
       "text": [
        "array([[ 5,  6],\n",
        "       [ 9, 10]])"
       ]
      }
     ],
     "prompt_number": 15
    },
    {
     "cell_type": "code",
     "collapsed": false,
     "input": [
      "ndim_ar3d"
     ],
     "language": "python",
     "metadata": {},
     "outputs": [
      {
       "metadata": {},
       "output_type": "pyout",
       "prompt_number": 16,
       "text": [
        "array([[[0, 1],\n",
        "        [2, 3]],\n",
        "\n",
        "       [[4, 5],\n",
        "        [6, 7]]])"
       ]
      }
     ],
     "prompt_number": 16
    },
    {
     "cell_type": "code",
     "collapsed": false,
     "input": [
      "ndim_ar3d[0,:,1:]"
     ],
     "language": "python",
     "metadata": {},
     "outputs": [
      {
       "metadata": {},
       "output_type": "pyout",
       "prompt_number": 17,
       "text": [
        "array([[1],\n",
        "       [3]])"
       ]
      }
     ],
     "prompt_number": 17
    },
    {
     "cell_type": "code",
     "collapsed": false,
     "input": [
      "np.vstack((ar,ar2))"
     ],
     "language": "python",
     "metadata": {},
     "outputs": [
      {
       "metadata": {},
       "output_type": "pyout",
       "prompt_number": 18,
       "text": [
        "array([[ 0,  1,  2,  3,  4,  5,  6,  7,  8,  9, 10, 11],\n",
        "       [10,  5,  1,  2, 12, 10,  1,  2, 11,  9, 10,  1]])"
       ]
      }
     ],
     "prompt_number": 18
    },
    {
     "cell_type": "code",
     "collapsed": false,
     "input": [
      "np.vstack((ndim_ar, ndim_ar2))"
     ],
     "language": "python",
     "metadata": {},
     "outputs": [
      {
       "metadata": {},
       "output_type": "pyout",
       "prompt_number": 19,
       "text": [
        "array([[ 0,  1,  2,  3],\n",
        "       [ 4,  5,  6,  7],\n",
        "       [ 8,  9, 10, 11],\n",
        "       [11,  9,  7,  5],\n",
        "       [ 4,  1,  5, 12],\n",
        "       [ 7,  9, 12, 11]])"
       ]
      }
     ],
     "prompt_number": 19
    },
    {
     "cell_type": "code",
     "collapsed": false,
     "input": [
      "np.hstack((ndim_ar, ndim_ar2))"
     ],
     "language": "python",
     "metadata": {},
     "outputs": [
      {
       "metadata": {},
       "output_type": "pyout",
       "prompt_number": 20,
       "text": [
        "array([[ 0,  1,  2,  3, 11,  9,  7,  5],\n",
        "       [ 4,  5,  6,  7,  4,  1,  5, 12],\n",
        "       [ 8,  9, 10, 11,  7,  9, 12, 11]])"
       ]
      }
     ],
     "prompt_number": 20
    },
    {
     "cell_type": "code",
     "collapsed": false,
     "input": [
      "ar3 = np.hstack((ar,ar2))\n",
      "ar3"
     ],
     "language": "python",
     "metadata": {},
     "outputs": [
      {
       "metadata": {},
       "output_type": "pyout",
       "prompt_number": 21,
       "text": [
        "array([ 0,  1,  2,  3,  4,  5,  6,  7,  8,  9, 10, 11, 10,  5,  1,  2, 12,\n",
        "       10,  1,  2, 11,  9, 10,  1])"
       ]
      }
     ],
     "prompt_number": 21
    },
    {
     "cell_type": "code",
     "collapsed": false,
     "input": [
      "ar"
     ],
     "language": "python",
     "metadata": {},
     "outputs": [
      {
       "metadata": {},
       "output_type": "pyout",
       "prompt_number": 22,
       "text": [
        "array([ 0,  1,  2,  3,  4,  5,  6,  7,  8,  9, 10, 11])"
       ]
      }
     ],
     "prompt_number": 22
    },
    {
     "cell_type": "code",
     "collapsed": false,
     "input": [
      "np.concatenate((ar,ar2))"
     ],
     "language": "python",
     "metadata": {},
     "outputs": [
      {
       "metadata": {},
       "output_type": "pyout",
       "prompt_number": 23,
       "text": [
        "array([ 0,  1,  2,  3,  4,  5,  6,  7,  8,  9, 10, 11, 10,  5,  1,  2, 12,\n",
        "       10,  1,  2, 11,  9, 10,  1])"
       ]
      }
     ],
     "prompt_number": 23
    },
    {
     "cell_type": "code",
     "collapsed": false,
     "input": [
      "ndim_ar3 = np.concatenate((ndim_ar,ndim_ar2), axis=0)\n",
      "ndim_ar3"
     ],
     "language": "python",
     "metadata": {},
     "outputs": [
      {
       "metadata": {},
       "output_type": "pyout",
       "prompt_number": 24,
       "text": [
        "array([[ 0,  1,  2,  3],\n",
        "       [ 4,  5,  6,  7],\n",
        "       [ 8,  9, 10, 11],\n",
        "       [11,  9,  7,  5],\n",
        "       [ 4,  1,  5, 12],\n",
        "       [ 7,  9, 12, 11]])"
       ]
      }
     ],
     "prompt_number": 24
    },
    {
     "cell_type": "code",
     "collapsed": false,
     "input": [
      "np.concatenate((ndim_ar,ndim_ar2), axis=1)"
     ],
     "language": "python",
     "metadata": {},
     "outputs": [
      {
       "metadata": {},
       "output_type": "pyout",
       "prompt_number": 25,
       "text": [
        "array([[ 0,  1,  2,  3, 11,  9,  7,  5],\n",
        "       [ 4,  5,  6,  7,  4,  1,  5, 12],\n",
        "       [ 8,  9, 10, 11,  7,  9, 12, 11]])"
       ]
      }
     ],
     "prompt_number": 25
    },
    {
     "cell_type": "code",
     "collapsed": false,
     "input": [
      "ndim_ar3d = np.dstack((ndim_ar,ndim_ar2))\n",
      "ndim_ar3d"
     ],
     "language": "python",
     "metadata": {},
     "outputs": [
      {
       "metadata": {},
       "output_type": "pyout",
       "prompt_number": 26,
       "text": [
        "array([[[ 0, 11],\n",
        "        [ 1,  9],\n",
        "        [ 2,  7],\n",
        "        [ 3,  5]],\n",
        "\n",
        "       [[ 4,  4],\n",
        "        [ 5,  1],\n",
        "        [ 6,  5],\n",
        "        [ 7, 12]],\n",
        "\n",
        "       [[ 8,  7],\n",
        "        [ 9,  9],\n",
        "        [10, 12],\n",
        "        [11, 11]]])"
       ]
      }
     ],
     "prompt_number": 26
    },
    {
     "cell_type": "code",
     "collapsed": false,
     "input": [
      "ndim_ar3d_split = np.dsplit(ndim_ar3d, 2)\n",
      "ndim_ar3d_split"
     ],
     "language": "python",
     "metadata": {},
     "outputs": [
      {
       "metadata": {},
       "output_type": "pyout",
       "prompt_number": 27,
       "text": [
        "[array([[[ 0],\n",
        "         [ 1],\n",
        "         [ 2],\n",
        "         [ 3]],\n",
        " \n",
        "        [[ 4],\n",
        "         [ 5],\n",
        "         [ 6],\n",
        "         [ 7]],\n",
        " \n",
        "        [[ 8],\n",
        "         [ 9],\n",
        "         [10],\n",
        "         [11]]]), array([[[11],\n",
        "         [ 9],\n",
        "         [ 7],\n",
        "         [ 5]],\n",
        " \n",
        "        [[ 4],\n",
        "         [ 1],\n",
        "         [ 5],\n",
        "         [12]],\n",
        " \n",
        "        [[ 7],\n",
        "         [ 9],\n",
        "         [12],\n",
        "         [11]]])]"
       ]
      }
     ],
     "prompt_number": 27
    },
    {
     "cell_type": "code",
     "collapsed": false,
     "input": [
      "ndim_ar3d_split[0].flatten()"
     ],
     "language": "python",
     "metadata": {},
     "outputs": [
      {
       "metadata": {},
       "output_type": "pyout",
       "prompt_number": 28,
       "text": [
        "array([ 0,  1,  2,  3,  4,  5,  6,  7,  8,  9, 10, 11])"
       ]
      }
     ],
     "prompt_number": 28
    },
    {
     "cell_type": "code",
     "collapsed": false,
     "input": [
      "ndim_ar3d_split[1].flatten()"
     ],
     "language": "python",
     "metadata": {},
     "outputs": [
      {
       "metadata": {},
       "output_type": "pyout",
       "prompt_number": 29,
       "text": [
        "array([11,  9,  7,  5,  4,  1,  5, 12,  7,  9, 12, 11])"
       ]
      }
     ],
     "prompt_number": 29
    },
    {
     "cell_type": "code",
     "collapsed": false,
     "input": [
      "ar"
     ],
     "language": "python",
     "metadata": {},
     "outputs": [
      {
       "metadata": {},
       "output_type": "pyout",
       "prompt_number": 30,
       "text": [
        "array([ 0,  1,  2,  3,  4,  5,  6,  7,  8,  9, 10, 11])"
       ]
      }
     ],
     "prompt_number": 30
    },
    {
     "cell_type": "code",
     "collapsed": false,
     "input": [
      "np.hsplit(ar3,2)"
     ],
     "language": "python",
     "metadata": {},
     "outputs": [
      {
       "metadata": {},
       "output_type": "pyout",
       "prompt_number": 31,
       "text": [
        "[array([ 0,  1,  2,  3,  4,  5,  6,  7,  8,  9, 10, 11]),\n",
        " array([10,  5,  1,  2, 12, 10,  1,  2, 11,  9, 10,  1])]"
       ]
      }
     ],
     "prompt_number": 31
    },
    {
     "cell_type": "code",
     "collapsed": false,
     "input": [
      "ndim_ar3"
     ],
     "language": "python",
     "metadata": {},
     "outputs": [
      {
       "metadata": {},
       "output_type": "pyout",
       "prompt_number": 32,
       "text": [
        "array([[ 0,  1,  2,  3],\n",
        "       [ 4,  5,  6,  7],\n",
        "       [ 8,  9, 10, 11],\n",
        "       [11,  9,  7,  5],\n",
        "       [ 4,  1,  5, 12],\n",
        "       [ 7,  9, 12, 11]])"
       ]
      }
     ],
     "prompt_number": 32
    },
    {
     "cell_type": "code",
     "collapsed": false,
     "input": [
      "np.vsplit(ndim_ar3,2)"
     ],
     "language": "python",
     "metadata": {},
     "outputs": [
      {
       "metadata": {},
       "output_type": "pyout",
       "prompt_number": 33,
       "text": [
        "[array([[ 0,  1,  2,  3],\n",
        "        [ 4,  5,  6,  7],\n",
        "        [ 8,  9, 10, 11]]), array([[11,  9,  7,  5],\n",
        "        [ 4,  1,  5, 12],\n",
        "        [ 7,  9, 12, 11]])]"
       ]
      }
     ],
     "prompt_number": 33
    },
    {
     "cell_type": "markdown",
     "metadata": {},
     "source": [
      "there is a dedicated matrix format but that's outside the scope of this tutorial."
     ]
    }
   ],
   "metadata": {}
  }
 ]
}