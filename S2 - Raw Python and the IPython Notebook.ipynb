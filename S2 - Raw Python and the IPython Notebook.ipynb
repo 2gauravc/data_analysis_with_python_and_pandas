{
 "metadata": {
  "name": "",
  "signature": "sha256:495b8f24b9b23396c57a5e527644909c9484782e75844e75412e8c6791fdb5a8"
 },
 "nbformat": 3,
 "nbformat_minor": 0,
 "worksheets": [
  {
   "cells": [
    {
     "cell_type": "markdown",
     "metadata": {},
     "source": [
      "###Lambda Functions\n",
      "Lambda functions are just inline functions. They don't need to be instantiated as official functions prior to being used. This makes them useful because they can really help with code readability (if used appropriately). Their true power comes from their expressiveness when performing inline operations. We'll get to those with map, filter, and reduce below.\n",
      "\n",
      "**Example:**\n",
      "Cubing a number"
     ]
    },
    {
     "cell_type": "code",
     "collapsed": false,
     "input": [
      "#normal way\n",
      "def cube(num):\n",
      "    return num**3\n",
      "print cube(3)"
     ],
     "language": "python",
     "metadata": {},
     "outputs": [
      {
       "output_type": "stream",
       "stream": "stdout",
       "text": [
        "27\n"
       ]
      }
     ],
     "prompt_number": 4
    },
    {
     "cell_type": "code",
     "collapsed": false,
     "input": [
      "#lambda way\n",
      "cube_lambda = lambda x: x**3\n",
      "print cube_lambda(3)"
     ],
     "language": "python",
     "metadata": {},
     "outputs": [
      {
       "output_type": "stream",
       "stream": "stdout",
       "text": [
        "27\n"
       ]
      }
     ],
     "prompt_number": 6
    },
    {
     "cell_type": "code",
     "collapsed": false,
     "input": [
      "%timeit cube(3)\n",
      "%timeit cube_lambda(3)"
     ],
     "language": "python",
     "metadata": {},
     "outputs": [
      {
       "output_type": "stream",
       "stream": "stdout",
       "text": [
        "1000000 loops, best of 3: 189 ns per loop\n",
        "1000000 loops, best of 3: 177 ns per loop"
       ]
      },
      {
       "output_type": "stream",
       "stream": "stdout",
       "text": [
        "\n"
       ]
      }
     ],
     "prompt_number": 18
    },
    {
     "cell_type": "markdown",
     "metadata": {},
     "source": [
      "###Exercise\n",
      "write a lambda function that checks whether \"hello\" is in a string\n",
      "\n",
      "\n",
      "\n"
     ]
    },
    {
     "cell_type": "code",
     "collapsed": false,
     "input": [
      "hello_statement = \"hello, there, how are you doing?\"\n",
      "def hello_in(my_string):\n",
      "    return \"hello\" in my_string\n",
      "print hello_in(hello_statement)\n",
      "\n",
      "hello_in_2 = lambda my_string: \"hello\" in my_string\n",
      "print hello_in_2(hello_statement)"
     ],
     "language": "python",
     "metadata": {},
     "outputs": [
      {
       "output_type": "stream",
       "stream": "stdout",
       "text": [
        "True\n",
        "True\n"
       ]
      }
     ],
     "prompt_number": 28
    },
    {
     "cell_type": "markdown",
     "metadata": {},
     "source": [
      "###Maps\n",
      "Mapping is basically mapping one value to another one, almost like a dictionary. This is a *functional programming* concept but can be useful in certain circumstances and will certainly come up in your data analysis career. This is a fundamental part of the MapReduce style of programming popular in big data.\n",
      "\n",
      "**Example:**\n",
      "I want a list of all squares from 1 to 15"
     ]
    },
    {
     "cell_type": "code",
     "collapsed": false,
     "input": [
      "#bad\n",
      "all_squares = []\n",
      "for x in range(1,16):\n",
      "    all_squares.append(x**2)\n",
      "print all_squares"
     ],
     "language": "python",
     "metadata": {},
     "outputs": [
      {
       "output_type": "stream",
       "stream": "stdout",
       "text": [
        "[1, 4, 9, 16, 25, 36, 49, 64, 81, 100, 121, 144, 169, 196, 225]\n"
       ]
      }
     ],
     "prompt_number": 2
    },
    {
     "cell_type": "code",
     "collapsed": false,
     "input": [
      "#good\n",
      "all_squares_map = map(lambda x: x**2, range(1,16))\n",
      "print all_squares_map"
     ],
     "language": "python",
     "metadata": {},
     "outputs": [
      {
       "output_type": "stream",
       "stream": "stdout",
       "text": [
        "[1, 4, 9, 16, 25, 36, 49, 64, 81, 100, 121, 144, 169, 196, 225]\n"
       ]
      }
     ],
     "prompt_number": 7
    },
    {
     "cell_type": "code",
     "collapsed": false,
     "input": [
      "def get_all_squares():\n",
      "    all_squares = []\n",
      "    for x in range(1,16):\n",
      "        all_squares.append(x**2)  \n",
      "    return all_squares\n",
      "\n",
      "%timeit get_all_squares()\n",
      "%timeit map(lambda x: x**2, range(1,16))"
     ],
     "language": "python",
     "metadata": {},
     "outputs": [
      {
       "output_type": "stream",
       "stream": "stdout",
       "text": [
        "100000 loops, best of 3: 3.81 \u00b5s per loop\n",
        "100000 loops, best of 3: 3.71 \u00b5s per loop"
       ]
      },
      {
       "output_type": "stream",
       "stream": "stdout",
       "text": [
        "\n"
       ]
      }
     ],
     "prompt_number": 19
    },
    {
     "cell_type": "markdown",
     "metadata": {},
     "source": [
      "###Exercise\n",
      "Write a map that takes in a list of strings and returns a list of the number of occurences of \"x\" in each string."
     ]
    },
    {
     "cell_type": "code",
     "collapsed": false,
     "input": [
      "test_list = [\n",
      "\"hello\",\n",
      "\"x,y,z\",\n",
      "\"this is two xx\",\n",
      "\"this, x, here x is, here it is againx\"\n",
      "]\n",
      "print map(lambda s: s.count(\"x\"), test_list)"
     ],
     "language": "python",
     "metadata": {},
     "outputs": [
      {
       "output_type": "stream",
       "stream": "stdout",
       "text": [
        "[0, 1, 2, 3]\n"
       ]
      }
     ],
     "prompt_number": 29
    },
    {
     "cell_type": "markdown",
     "metadata": {},
     "source": [
      "###Filters\n",
      "Filtering basically just helps reduce lists down or *filter out* certain values. You take a function that returns true or false and filter down a list to only the values that return true.\n",
      "\n",
      "**Example:**\n",
      "Filter our list to only values that are divisible by 3"
     ]
    },
    {
     "cell_type": "code",
     "collapsed": false,
     "input": [
      "#bad\n",
      "all_sq_divis_3 = []\n",
      "for x in all_squares:\n",
      "    if x % 3 == 0:\n",
      "        all_sq_divis_3.append(x)\n",
      "print all_sq_divis_3"
     ],
     "language": "python",
     "metadata": {},
     "outputs": [
      {
       "output_type": "stream",
       "stream": "stdout",
       "text": [
        "[9, 36, 81, 144, 225]\n"
       ]
      }
     ],
     "prompt_number": 10
    },
    {
     "cell_type": "code",
     "collapsed": false,
     "input": [
      "#good\n",
      "all_sq_divis_3_filter = filter(lambda x: x % 3 == 0, all_squares_map)\n",
      "print all_sq_divis_3_filter"
     ],
     "language": "python",
     "metadata": {},
     "outputs": [
      {
       "output_type": "stream",
       "stream": "stdout",
       "text": [
        "[9, 36, 81, 144, 225]\n"
       ]
      }
     ],
     "prompt_number": 14
    },
    {
     "cell_type": "markdown",
     "metadata": {},
     "source": [
      "###Exercise\n",
      "Filter a list of strings to get only those that contain x more than twice."
     ]
    },
    {
     "cell_type": "code",
     "collapsed": false,
     "input": [
      "test_list = [\n",
      "\"hello\",\n",
      "\"x,y,z. i like this.\",\n",
      "\"this is two xx\",\n",
      "\"this, x, here x is, here it is againx\"\n",
      "]\n",
      "print filter(lambda s: s.count(\"x\") >=2, test_list)"
     ],
     "language": "python",
     "metadata": {},
     "outputs": [
      {
       "output_type": "stream",
       "stream": "stdout",
       "text": [
        "['this is two xx', 'this, x, here x is, here it is againx']\n"
       ]
      }
     ],
     "prompt_number": 44
    },
    {
     "cell_type": "markdown",
     "metadata": {},
     "source": [
      "###List Comprehensions\n",
      "\n",
      "These are pythonic (or typical to python) ways of doing filters and maps. Filtering, although a functional concept, isn't as popular nor ubiquitous and list comprehensions. You will certainly encounter these in your career and I would encourage you to study them.\n",
      "\n",
      "**Example:**\n",
      "Get a list of numbers divisible by two from 0 to 20\n",
      "\n",
      "Square every number from 1 to 9"
     ]
    },
    {
     "cell_type": "code",
     "collapsed": false,
     "input": [
      "print [x for x in range(0,21) if x % 2 == 0]\n",
      "print [x**2 for x in range(0,10)]"
     ],
     "language": "python",
     "metadata": {},
     "outputs": [
      {
       "output_type": "stream",
       "stream": "stdout",
       "text": [
        "[0, 2, 4, 6, 8, 10, 12, 14, 16, 18, 20]\n",
        "[0, 1, 4, 9, 16, 25, 36, 49, 64, 81]\n"
       ]
      }
     ],
     "prompt_number": 45
    },
    {
     "cell_type": "code",
     "collapsed": false,
     "input": [
      "def get_all_sq_div_3(ls):\n",
      "    all_sq_divis_3 = []\n",
      "    for x in ls:\n",
      "        if x % 3 == 0:\n",
      "            all_sq_divis_3.append(x)\n",
      "    return all_sq_divis_3\n",
      "\n",
      "%timeit get_all_sq_div_3(all_squares_map)\n",
      "%timeit filter(lambda x: x % 3 == 0, all_squares_map)\n",
      "%timeit [x for x in all_squares if x % 3 == 0]"
     ],
     "language": "python",
     "metadata": {},
     "outputs": [
      {
       "output_type": "stream",
       "stream": "stdout",
       "text": [
        "100000 loops, best of 3: 2.58 \u00b5s per loop\n",
        "100000 loops, best of 3: 3.62 \u00b5s per loop"
       ]
      },
      {
       "output_type": "stream",
       "stream": "stdout",
       "text": [
        "\n",
        "100000 loops, best of 3: 1.93 \u00b5s per loop"
       ]
      },
      {
       "output_type": "stream",
       "stream": "stdout",
       "text": [
        "\n"
       ]
      }
     ],
     "prompt_number": 46
    },
    {
     "cell_type": "markdown",
     "metadata": {},
     "source": [
      "###Exercise\n",
      "\n",
      "Try to rewrite the above map and reduces we performed before into a list comprehension.\n",
      "\n",
      "Now make it into 1 list comprehension.\n",
      "\n",
      "Take the test list of strings and return the squared count of the number of \"i\"s but only if the number of x's is not divisible by 2."
     ]
    },
    {
     "cell_type": "code",
     "collapsed": false,
     "input": [
      "all_squares_ls_comp = [x**2 for x in range(1,16)]\n",
      "print all_squares_ls_comp\n",
      "all_sq_divis_3_ls_comp = [x for x in all_squares_ls_comp if x % 3 == 0]\n",
      "print all_sq_divis_3_ls_comp\n",
      "print [x**2 for x in range(1,16) if x % 3 == 0]\n",
      "\n",
      "print [s.count(\"i\")**2 for s in test_list if s.count(\"x\") % 2 != 0]"
     ],
     "language": "python",
     "metadata": {},
     "outputs": [
      {
       "output_type": "stream",
       "stream": "stdout",
       "text": [
        "[1, 4, 9, 16, 25, 36, 49, 64, 81, 100, 121, 144, 169, 196, 225]\n",
        "[9, 36, 81, 144, 225]\n",
        "[9, 36, 81, 144, 225]\n",
        "[9, 25]\n"
       ]
      }
     ],
     "prompt_number": 47
    },
    {
     "cell_type": "markdown",
     "metadata": {},
     "source": [
      "###Reduce\n",
      "The other half of the map reduce paradigm, reduce allows you to take a list of values and reduce them down to one. Think of it almost like flattening down a list in one command instead of doing it in a for loop.\n",
      "\n",
      "**Example:**\n",
      "Summing values in a list"
     ]
    },
    {
     "cell_type": "code",
     "collapsed": false,
     "input": [
      "#bad\n",
      "total = 0\n",
      "for x in all_sq_divis_3:\n",
      "    total += x\n",
      "print total"
     ],
     "language": "python",
     "metadata": {},
     "outputs": [
      {
       "output_type": "stream",
       "stream": "stdout",
       "text": [
        "495\n"
       ]
      }
     ],
     "prompt_number": 15
    },
    {
     "cell_type": "code",
     "collapsed": false,
     "input": [
      "total_reduced = reduce(lambda x, y: x+y, all_sq_divis_3_filter)\n",
      "print total_reduced"
     ],
     "language": "python",
     "metadata": {},
     "outputs": [
      {
       "output_type": "stream",
       "stream": "stdout",
       "text": [
        "495\n"
       ]
      }
     ],
     "prompt_number": 17
    },
    {
     "cell_type": "code",
     "collapsed": false,
     "input": [
      "def sumit(ls):\n",
      "    total = 0\n",
      "    for x in ls:\n",
      "        total += x\n",
      "    return total\n",
      "\n",
      "%timeit sumit(range(1000))\n",
      "%timeit reduce(lambda x, y: x+y, range(1000))"
     ],
     "language": "python",
     "metadata": {},
     "outputs": [
      {
       "output_type": "stream",
       "stream": "stdout",
       "text": [
        "10000 loops, best of 3: 55.3 \u00b5s per loop\n",
        "10000 loops, best of 3: 128 \u00b5s per loop"
       ]
      },
      {
       "output_type": "stream",
       "stream": "stdout",
       "text": [
        "\n"
       ]
      }
     ],
     "prompt_number": 27
    },
    {
     "cell_type": "code",
     "collapsed": false,
     "input": [
      "%quickref"
     ],
     "language": "python",
     "metadata": {},
     "outputs": [],
     "prompt_number": 55
    },
    {
     "cell_type": "code",
     "collapsed": false,
     "input": [
      "pwd"
     ],
     "language": "python",
     "metadata": {},
     "outputs": [
      {
       "metadata": {},
       "output_type": "pyout",
       "prompt_number": 56,
       "text": [
        "u'/Users/bill_chambers/AeroFS/Dev/udemy_pandas'"
       ]
      }
     ],
     "prompt_number": 56
    },
    {
     "cell_type": "code",
     "collapsed": false,
     "input": [
      "??timeit"
     ],
     "language": "python",
     "metadata": {},
     "outputs": [],
     "prompt_number": 1
    },
    {
     "cell_type": "code",
     "collapsed": false,
     "input": [],
     "language": "python",
     "metadata": {},
     "outputs": []
    }
   ],
   "metadata": {}
  }
 ]
}