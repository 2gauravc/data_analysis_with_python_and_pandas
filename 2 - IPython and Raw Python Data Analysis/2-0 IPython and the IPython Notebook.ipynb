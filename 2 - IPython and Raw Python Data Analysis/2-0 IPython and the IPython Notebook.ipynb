{
 "metadata": {
  "name": "",
  "signature": "sha256:5d7fb06be2de6dfd586b1f4e17c219abb64b3155d70453ef55acb318b6b65856"
 },
 "nbformat": 3,
 "nbformat_minor": 0,
 "worksheets": [
  {
   "cells": [
    {
     "cell_type": "heading",
     "level": 1,
     "metadata": {},
     "source": [
      "2-0 IPython and the IPython Notebook"
     ]
    },
    {
     "cell_type": "markdown",
     "metadata": {},
     "source": [
      "Material Covered:\n",
      "- IPython\n",
      "- IPython Notebook"
     ]
    },
    {
     "cell_type": "markdown",
     "metadata": {},
     "source": [
      "Alright now that I\u2019ve introduced the course, let\u2019s get started with some analysis.\n",
      "\n",
      "A lot of people overlook the fundamentals of python when performing data analysis. Powerful tools can make it seem they\u2019ll take care of all the hard work but the truth is there are plenty of core python features that you will encounter in this course and in your data analysis career that are worth going over\n",
      "\n",
      "Before I get into doing some basic analysis with raw python I wanted to introduce the tools that we\u2019ll be using. Specifically I wanted to introduce IPython and the IPython Notebook before moving on.\n",
      "\n",
      "IPython is an interactive computing interface for python that adds some extremely helpful tools to python. Let\u2019s go ahead and get started with that.\n",
      "\n",
      "You can start IPython from the terminal with the command ipython instead of python. Think of it like a supercharged REPL environment. It adds lots of helper commands, adds tab completion, general developer happiness tools to python."
     ]
    },
    {
     "cell_type": "markdown",
     "metadata": {},
     "source": [
      "Now IPython is the terminal environment which has scared a fair number of my friends. They find the IPython Notebook much more approachable and I\u2019ll get to that in the next video. (which builds even further on ipython)"
     ]
    },
    {
     "cell_type": "markdown",
     "metadata": {},
     "source": [
      "Basically you\u2019re going to get a lot of commands that are in the command line available in notebook format.\n",
      "\n",
      "We are going to be using it through out this course and I advise you to keep using it. It makes it much easier to share your work with others.\n",
      "\n",
      "This makes it much easier to share your work because other people can look at them so easily."
     ]
    },
    {
     "cell_type": "code",
     "collapsed": false,
     "input": [
      "!cat License"
     ],
     "language": "python",
     "metadata": {},
     "outputs": []
    },
    {
     "cell_type": "code",
     "collapsed": false,
     "input": [
      "ls"
     ],
     "language": "python",
     "metadata": {},
     "outputs": []
    },
    {
     "cell_type": "code",
     "collapsed": false,
     "input": [
      "x = range(10)"
     ],
     "language": "python",
     "metadata": {},
     "outputs": [],
     "prompt_number": 1
    },
    {
     "cell_type": "code",
     "collapsed": false,
     "input": [
      "print x"
     ],
     "language": "python",
     "metadata": {},
     "outputs": [
      {
       "output_type": "stream",
       "stream": "stdout",
       "text": [
        "[0, 1, 2, 3, 4, 5, 6, 7, 8, 9]\n"
       ]
      }
     ],
     "prompt_number": 2
    },
    {
     "cell_type": "code",
     "collapsed": false,
     "input": [
      "ls"
     ],
     "language": "python",
     "metadata": {},
     "outputs": [
      {
       "output_type": "stream",
       "stream": "stdout",
       "text": [
        "LICENSE          \u001b[1m\u001b[36mOld\u001b[m\u001b[m/             README.md        Untitled0.ipynb  \u001b[1m\u001b[36massets\u001b[m\u001b[m/          \u001b[1m\u001b[36mdata\u001b[m\u001b[m/\r\n"
       ]
      }
     ],
     "prompt_number": 3
    },
    {
     "cell_type": "code",
     "collapsed": false,
     "input": [
      "%quickref"
     ],
     "language": "python",
     "metadata": {},
     "outputs": [],
     "prompt_number": 6
    },
    {
     "cell_type": "code",
     "collapsed": false,
     "input": [
      "from datetime import datetime"
     ],
     "language": "python",
     "metadata": {},
     "outputs": [],
     "prompt_number": 7
    },
    {
     "cell_type": "code",
     "collapsed": false,
     "input": [
      "?datetime"
     ],
     "language": "python",
     "metadata": {},
     "outputs": [],
     "prompt_number": 8
    },
    {
     "cell_type": "code",
     "collapsed": false,
     "input": [
      "?map"
     ],
     "language": "python",
     "metadata": {},
     "outputs": [],
     "prompt_number": 9
    },
    {
     "cell_type": "markdown",
     "metadata": {},
     "source": [
      "#This is markdown\n",
      "#### This is the ipython notebook"
     ]
    },
    {
     "cell_type": "markdown",
     "metadata": {},
     "source": [
      "    x ==y"
     ]
    },
    {
     "cell_type": "markdown",
     "metadata": {},
     "source": [
      "Now I will warn you, I\u2019ve used these pretty extensively and while they are great for rapid prototyping and sharing your scientific code or analysis.\n",
      "\n",
      "However the notebook interface allows you to save a .py file so that you may build on your basic prototype into a production system.\n",
      "\n",
      "Now that I\u2019ve introduced these tools we can start diving into the material. We\u2019ll first cover raw python analysis. Like lambda, maps, filters,  and list comprehensions. I\u2019ll get to those in the next video."
     ]
    },
    {
     "cell_type": "code",
     "collapsed": false,
     "input": [],
     "language": "python",
     "metadata": {},
     "outputs": []
    }
   ],
   "metadata": {}
  }
 ]
}